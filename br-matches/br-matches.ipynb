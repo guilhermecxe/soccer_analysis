{
 "cells": [
  {
   "cell_type": "markdown",
   "id": "15d24bc7",
   "metadata": {},
   "source": [
    "This is a small analysis on results from Campeonato Brasileiro (brazilian championship of soccer) from 2016 to 2020."
   ]
  },
  {
   "cell_type": "code",
   "execution_count": 2,
   "id": "a73ffb4a",
   "metadata": {},
   "outputs": [],
   "source": [
    "import pandas as pd\n",
    "import matplotlib.pyplot as plt\n",
    "import seaborn as sns"
   ]
  },
  {
   "cell_type": "code",
   "execution_count": 3,
   "id": "48688d1a",
   "metadata": {},
   "outputs": [
    {
     "data": {
      "text/html": [
       "<div>\n",
       "<style scoped>\n",
       "    .dataframe tbody tr th:only-of-type {\n",
       "        vertical-align: middle;\n",
       "    }\n",
       "\n",
       "    .dataframe tbody tr th {\n",
       "        vertical-align: top;\n",
       "    }\n",
       "\n",
       "    .dataframe thead th {\n",
       "        text-align: right;\n",
       "    }\n",
       "</style>\n",
       "<table border=\"1\" class=\"dataframe\">\n",
       "  <thead>\n",
       "    <tr style=\"text-align: right;\">\n",
       "      <th></th>\n",
       "      <th>round</th>\n",
       "      <th>date</th>\n",
       "      <th>home_team</th>\n",
       "      <th>home_score</th>\n",
       "      <th>away_score</th>\n",
       "      <th>away_team</th>\n",
       "      <th>year</th>\n",
       "    </tr>\n",
       "  </thead>\n",
       "  <tbody>\n",
       "    <tr>\n",
       "      <th>0</th>\n",
       "      <td>1</td>\n",
       "      <td>2016-05-14</td>\n",
       "      <td>Flamengo</td>\n",
       "      <td>1</td>\n",
       "      <td>0</td>\n",
       "      <td>Sport Recife</td>\n",
       "      <td>2016</td>\n",
       "    </tr>\n",
       "    <tr>\n",
       "      <th>1</th>\n",
       "      <td>1</td>\n",
       "      <td>2016-05-14</td>\n",
       "      <td>Palmeiras</td>\n",
       "      <td>4</td>\n",
       "      <td>0</td>\n",
       "      <td>Athletico-PR</td>\n",
       "      <td>2016</td>\n",
       "    </tr>\n",
       "    <tr>\n",
       "      <th>2</th>\n",
       "      <td>1</td>\n",
       "      <td>2016-05-14</td>\n",
       "      <td>Atl. Mineiro</td>\n",
       "      <td>1</td>\n",
       "      <td>0</td>\n",
       "      <td>Santos</td>\n",
       "      <td>2016</td>\n",
       "    </tr>\n",
       "    <tr>\n",
       "      <th>3</th>\n",
       "      <td>1</td>\n",
       "      <td>2016-05-14</td>\n",
       "      <td>Coritiba</td>\n",
       "      <td>1</td>\n",
       "      <td>0</td>\n",
       "      <td>Cruzeiro EC</td>\n",
       "      <td>2016</td>\n",
       "    </tr>\n",
       "    <tr>\n",
       "      <th>4</th>\n",
       "      <td>1</td>\n",
       "      <td>2016-05-15</td>\n",
       "      <td>Botafogo</td>\n",
       "      <td>0</td>\n",
       "      <td>1</td>\n",
       "      <td>São Paulo</td>\n",
       "      <td>2016</td>\n",
       "    </tr>\n",
       "  </tbody>\n",
       "</table>\n",
       "</div>"
      ],
      "text/plain": [
       "   round        date     home_team  home_score  away_score     away_team  year\n",
       "0      1  2016-05-14      Flamengo           1           0  Sport Recife  2016\n",
       "1      1  2016-05-14     Palmeiras           4           0  Athletico-PR  2016\n",
       "2      1  2016-05-14  Atl. Mineiro           1           0        Santos  2016\n",
       "3      1  2016-05-14      Coritiba           1           0   Cruzeiro EC  2016\n",
       "4      1  2016-05-15      Botafogo           0           1     São Paulo  2016"
      ]
     },
     "execution_count": 3,
     "metadata": {},
     "output_type": "execute_result"
    }
   ],
   "source": [
    "br16 = pd.read_csv('data/champ-br-2016-matches.csv')\n",
    "br17 = pd.read_csv('data/champ-br-2017-matches.csv')\n",
    "br18 = pd.read_csv('data/champ-br-2018-matches.csv')\n",
    "br19 = pd.read_csv('data/champ-br-2019-matches.csv')\n",
    "br20 = pd.read_csv('data/champ-br-2020-matches.csv')\n",
    "\n",
    "br16['year'] = 2016\n",
    "br17['year'] = 2017\n",
    "br18['year'] = 2018\n",
    "br19['year'] = 2019\n",
    "br20['year'] = 2020\n",
    "\n",
    "# I could use br['year'] = br['date'].dt.strftime(\"%Y\").\n",
    "# This would result in the same for 2016, 2017, 2018 and 2019,\n",
    "# but some matches from 2020's championship didn't happen that year, but in 2021\n",
    "\n",
    "br = pd.concat([br16, br17, br18, br19, br20]).reset_index(drop=True)\n",
    "br.head()"
   ]
  },
  {
   "cell_type": "markdown",
   "id": "90e47c34",
   "metadata": {},
   "source": [
    "There are 380 matches per season during all the championship, with 5 seasons we should have 1900 matches, but, as we can see below, the dataset has 1899 matches, it because, after the Chapecoense tragedy, Chapecoense X Atl. Mineiro didn't happen."
   ]
  },
  {
   "cell_type": "code",
   "execution_count": 4,
   "id": "4d957e43",
   "metadata": {},
   "outputs": [
    {
     "data": {
      "text/plain": [
       "(1899, 7)"
      ]
     },
     "execution_count": 4,
     "metadata": {},
     "output_type": "execute_result"
    }
   ],
   "source": [
    "br.shape"
   ]
  },
  {
   "cell_type": "markdown",
   "id": "a1d8e0c1",
   "metadata": {},
   "source": [
    "Visualizing the distribution of quantity of goals per team (playing at home or away) on a match."
   ]
  },
  {
   "cell_type": "code",
   "execution_count": 5,
   "id": "52a7b456",
   "metadata": {},
   "outputs": [
    {
     "data": {
      "image/png": "[encoded data removed]",
      "text/plain": [
       "<Figure size 1080x360 with 2 Axes>"
      ]
     },
     "metadata": {
      "needs_background": "light"
     },
     "output_type": "display_data"
    }
   ],
   "source": [
    "fig, ax = plt.subplots(nrows=1, ncols=2, figsize=(15,5))\n",
    "\n",
    "sns.countplot(data=br, x='home_score', ax=ax[0]);\n",
    "sns.countplot(data=br, x='away_score', ax=ax[1]);\n",
    "\n",
    "ax[0].set_ylim([0, 800])\n",
    "ax[1].set_ylim([0, 800]);"
   ]
  },
  {
   "cell_type": "markdown",
   "id": "74d0a97c",
   "metadata": {},
   "source": [
    "We see that the probability of a team don't score is significantly higher between those that played away, and it is even what most happen. And, similarly, the teams that most of time scores 2 or more goals are those that play at home. And, finally, score just 1 goal happened approximately in the same amount of matches for both teams."
   ]
  },
  {
   "cell_type": "code",
   "execution_count": 6,
   "id": "f9598422",
   "metadata": {},
   "outputs": [
    {
     "data": {
      "text/html": [
       "<div>\n",
       "<style scoped>\n",
       "    .dataframe tbody tr th:only-of-type {\n",
       "        vertical-align: middle;\n",
       "    }\n",
       "\n",
       "    .dataframe tbody tr th {\n",
       "        vertical-align: top;\n",
       "    }\n",
       "\n",
       "    .dataframe thead th {\n",
       "        text-align: right;\n",
       "    }\n",
       "</style>\n",
       "<table border=\"1\" class=\"dataframe\">\n",
       "  <thead>\n",
       "    <tr style=\"text-align: right;\">\n",
       "      <th></th>\n",
       "      <th>round</th>\n",
       "      <th>date</th>\n",
       "      <th>home_team</th>\n",
       "      <th>home_score</th>\n",
       "      <th>away_score</th>\n",
       "      <th>away_team</th>\n",
       "      <th>year</th>\n",
       "      <th>scoreboard</th>\n",
       "    </tr>\n",
       "  </thead>\n",
       "  <tbody>\n",
       "    <tr>\n",
       "      <th>0</th>\n",
       "      <td>1</td>\n",
       "      <td>2016-05-14</td>\n",
       "      <td>Flamengo</td>\n",
       "      <td>1</td>\n",
       "      <td>0</td>\n",
       "      <td>Sport Recife</td>\n",
       "      <td>2016</td>\n",
       "      <td>1 - 0</td>\n",
       "    </tr>\n",
       "    <tr>\n",
       "      <th>1</th>\n",
       "      <td>1</td>\n",
       "      <td>2016-05-14</td>\n",
       "      <td>Palmeiras</td>\n",
       "      <td>4</td>\n",
       "      <td>0</td>\n",
       "      <td>Athletico-PR</td>\n",
       "      <td>2016</td>\n",
       "      <td>4 - 0</td>\n",
       "    </tr>\n",
       "    <tr>\n",
       "      <th>2</th>\n",
       "      <td>1</td>\n",
       "      <td>2016-05-14</td>\n",
       "      <td>Atl. Mineiro</td>\n",
       "      <td>1</td>\n",
       "      <td>0</td>\n",
       "      <td>Santos</td>\n",
       "      <td>2016</td>\n",
       "      <td>1 - 0</td>\n",
       "    </tr>\n",
       "    <tr>\n",
       "      <th>3</th>\n",
       "      <td>1</td>\n",
       "      <td>2016-05-14</td>\n",
       "      <td>Coritiba</td>\n",
       "      <td>1</td>\n",
       "      <td>0</td>\n",
       "      <td>Cruzeiro EC</td>\n",
       "      <td>2016</td>\n",
       "      <td>1 - 0</td>\n",
       "    </tr>\n",
       "    <tr>\n",
       "      <th>4</th>\n",
       "      <td>1</td>\n",
       "      <td>2016-05-15</td>\n",
       "      <td>Botafogo</td>\n",
       "      <td>0</td>\n",
       "      <td>1</td>\n",
       "      <td>São Paulo</td>\n",
       "      <td>2016</td>\n",
       "      <td>0 - 1</td>\n",
       "    </tr>\n",
       "  </tbody>\n",
       "</table>\n",
       "</div>"
      ],
      "text/plain": [
       "   round        date     home_team  home_score  away_score     away_team  \\\n",
       "0      1  2016-05-14      Flamengo           1           0  Sport Recife   \n",
       "1      1  2016-05-14     Palmeiras           4           0  Athletico-PR   \n",
       "2      1  2016-05-14  Atl. Mineiro           1           0        Santos   \n",
       "3      1  2016-05-14      Coritiba           1           0   Cruzeiro EC   \n",
       "4      1  2016-05-15      Botafogo           0           1     São Paulo   \n",
       "\n",
       "   year scoreboard  \n",
       "0  2016      1 - 0  \n",
       "1  2016      4 - 0  \n",
       "2  2016      1 - 0  \n",
       "3  2016      1 - 0  \n",
       "4  2016      0 - 1  "
      ]
     },
     "execution_count": 6,
     "metadata": {},
     "output_type": "execute_result"
    }
   ],
   "source": [
    "# Creating a scoreboard column\n",
    "br['scoreboard'] = None\n",
    "\n",
    "for i, row in br.iterrows():\n",
    "    br.at[i, 'scoreboard'] = f\"{row['home_score']} - {row['away_score']}\"\n",
    "    \n",
    "br.head()"
   ]
  },
  {
   "cell_type": "code",
   "execution_count": 7,
   "id": "4831a244",
   "metadata": {},
   "outputs": [
    {
     "name": "stdout",
     "output_type": "stream",
     "text": [
      "There were 36 different scoreboards.\n"
     ]
    },
    {
     "data": {
      "text/plain": [
       "scoreboard\n",
       "1 - 0         14.955240\n",
       "1 - 1         13.112164\n",
       "2 - 1          9.636651\n",
       "2 - 0          9.110058\n",
       "0 - 1          8.688784\n",
       "0 - 0          8.583465\n",
       "1 - 2          6.213797\n",
       "2 - 2          4.476040\n",
       "3 - 0          4.002106\n",
       "3 - 1          4.002106\n",
       "dtype: float64"
      ]
     },
     "execution_count": 7,
     "metadata": {},
     "output_type": "execute_result"
    }
   ],
   "source": [
    "freq = br[['scoreboard']].value_counts(normalize=True)*100\n",
    "print(f'There were {freq.shape[0]} different scoreboards.')\n",
    "freq.head(10)"
   ]
  },
  {
   "cell_type": "markdown",
   "id": "3b98b83e",
   "metadata": {},
   "source": [
    "Along all the 5 seasons there were 36 different scoreboards, and looking at the top 10 we can confirm that for those that played away don't score was more common.\n",
    "\n",
    "Now thinking just about result, from here we already can see that those that play at home has the high probability of end the match with a win."
   ]
  },
  {
   "cell_type": "code",
   "execution_count": 8,
   "id": "84defa13",
   "metadata": {},
   "outputs": [
    {
     "data": {
      "text/html": [
       "<div>\n",
       "<style scoped>\n",
       "    .dataframe tbody tr th:only-of-type {\n",
       "        vertical-align: middle;\n",
       "    }\n",
       "\n",
       "    .dataframe tbody tr th {\n",
       "        vertical-align: top;\n",
       "    }\n",
       "\n",
       "    .dataframe thead th {\n",
       "        text-align: right;\n",
       "    }\n",
       "</style>\n",
       "<table border=\"1\" class=\"dataframe\">\n",
       "  <thead>\n",
       "    <tr style=\"text-align: right;\">\n",
       "      <th></th>\n",
       "      <th>round</th>\n",
       "      <th>date</th>\n",
       "      <th>home_team</th>\n",
       "      <th>home_score</th>\n",
       "      <th>away_score</th>\n",
       "      <th>away_team</th>\n",
       "      <th>year</th>\n",
       "      <th>scoreboard</th>\n",
       "      <th>result</th>\n",
       "    </tr>\n",
       "  </thead>\n",
       "  <tbody>\n",
       "    <tr>\n",
       "      <th>0</th>\n",
       "      <td>1</td>\n",
       "      <td>2016-05-14</td>\n",
       "      <td>Flamengo</td>\n",
       "      <td>1</td>\n",
       "      <td>0</td>\n",
       "      <td>Sport Recife</td>\n",
       "      <td>2016</td>\n",
       "      <td>1 - 0</td>\n",
       "      <td>home_win</td>\n",
       "    </tr>\n",
       "    <tr>\n",
       "      <th>1</th>\n",
       "      <td>1</td>\n",
       "      <td>2016-05-14</td>\n",
       "      <td>Palmeiras</td>\n",
       "      <td>4</td>\n",
       "      <td>0</td>\n",
       "      <td>Athletico-PR</td>\n",
       "      <td>2016</td>\n",
       "      <td>4 - 0</td>\n",
       "      <td>home_win</td>\n",
       "    </tr>\n",
       "    <tr>\n",
       "      <th>2</th>\n",
       "      <td>1</td>\n",
       "      <td>2016-05-14</td>\n",
       "      <td>Atl. Mineiro</td>\n",
       "      <td>1</td>\n",
       "      <td>0</td>\n",
       "      <td>Santos</td>\n",
       "      <td>2016</td>\n",
       "      <td>1 - 0</td>\n",
       "      <td>home_win</td>\n",
       "    </tr>\n",
       "    <tr>\n",
       "      <th>3</th>\n",
       "      <td>1</td>\n",
       "      <td>2016-05-14</td>\n",
       "      <td>Coritiba</td>\n",
       "      <td>1</td>\n",
       "      <td>0</td>\n",
       "      <td>Cruzeiro EC</td>\n",
       "      <td>2016</td>\n",
       "      <td>1 - 0</td>\n",
       "      <td>home_win</td>\n",
       "    </tr>\n",
       "    <tr>\n",
       "      <th>4</th>\n",
       "      <td>1</td>\n",
       "      <td>2016-05-15</td>\n",
       "      <td>Botafogo</td>\n",
       "      <td>0</td>\n",
       "      <td>1</td>\n",
       "      <td>São Paulo</td>\n",
       "      <td>2016</td>\n",
       "      <td>0 - 1</td>\n",
       "      <td>away_win</td>\n",
       "    </tr>\n",
       "  </tbody>\n",
       "</table>\n",
       "</div>"
      ],
      "text/plain": [
       "   round        date     home_team  home_score  away_score     away_team  \\\n",
       "0      1  2016-05-14      Flamengo           1           0  Sport Recife   \n",
       "1      1  2016-05-14     Palmeiras           4           0  Athletico-PR   \n",
       "2      1  2016-05-14  Atl. Mineiro           1           0        Santos   \n",
       "3      1  2016-05-14      Coritiba           1           0   Cruzeiro EC   \n",
       "4      1  2016-05-15      Botafogo           0           1     São Paulo   \n",
       "\n",
       "   year scoreboard    result  \n",
       "0  2016      1 - 0  home_win  \n",
       "1  2016      4 - 0  home_win  \n",
       "2  2016      1 - 0  home_win  \n",
       "3  2016      1 - 0  home_win  \n",
       "4  2016      0 - 1  away_win  "
      ]
     },
     "execution_count": 8,
     "metadata": {},
     "output_type": "execute_result"
    }
   ],
   "source": [
    "# Creating a column to label the result of the match\n",
    "br['result'] = None\n",
    "\n",
    "for i, row in br.iterrows():\n",
    "    if row['home_score'] == row['away_score']:\n",
    "        br.at[i, 'result'] = 'draw'\n",
    "    elif row['home_score'] > row['away_score']:\n",
    "        br.at[i, 'result'] = 'home_win'\n",
    "    elif row['home_score'] < row['away_score']:\n",
    "        br.at[i, 'result'] = 'away_win'\n",
    "        \n",
    "br.head()"
   ]
  },
  {
   "cell_type": "code",
   "execution_count": 9,
   "id": "8198e844",
   "metadata": {},
   "outputs": [
    {
     "data": {
      "image/png": "[encoded data removed]",
      "text/plain": [
       "<Figure size 432x288 with 1 Axes>"
      ]
     },
     "metadata": {
      "needs_background": "light"
     },
     "output_type": "display_data"
    }
   ],
   "source": [
    "sns.countplot(data=br, x='result');"
   ]
  },
  {
   "cell_type": "markdown",
   "id": "7dd2d2ca",
   "metadata": {},
   "source": [
    "The most interesting to me is that the draws are more common that away wins and that, as we can see below, home win happened the double of times than away win, 48.8% versus 24.2%."
   ]
  },
  {
   "cell_type": "code",
   "execution_count": 10,
   "id": "a1abef0a",
   "metadata": {},
   "outputs": [
    {
     "data": {
      "text/plain": [
       "result  \n",
       "home_win    0.487625\n",
       "draw        0.270142\n",
       "away_win    0.242233\n",
       "dtype: float64"
      ]
     },
     "execution_count": 10,
     "metadata": {},
     "output_type": "execute_result"
    }
   ],
   "source": [
    "br[['result']].value_counts(normalize=True)"
   ]
  },
  {
   "cell_type": "markdown",
   "id": "7de70444",
   "metadata": {},
   "source": [
    "However, on Campeonato Brasileiro 2020, the crowd was not long able to support teams on stadiums. But did it impact on matches results?"
   ]
  },
  {
   "cell_type": "code",
   "execution_count": 11,
   "id": "2b2336d5",
   "metadata": {},
   "outputs": [
    {
     "data": {
      "text/html": [
       "<div>\n",
       "<style scoped>\n",
       "    .dataframe tbody tr th:only-of-type {\n",
       "        vertical-align: middle;\n",
       "    }\n",
       "\n",
       "    .dataframe tbody tr th {\n",
       "        vertical-align: top;\n",
       "    }\n",
       "\n",
       "    .dataframe thead th {\n",
       "        text-align: right;\n",
       "    }\n",
       "</style>\n",
       "<table border=\"1\" class=\"dataframe\">\n",
       "  <thead>\n",
       "    <tr style=\"text-align: right;\">\n",
       "      <th>result</th>\n",
       "      <th>away_win</th>\n",
       "      <th>draw</th>\n",
       "      <th>home_win</th>\n",
       "    </tr>\n",
       "    <tr>\n",
       "      <th>year</th>\n",
       "      <th></th>\n",
       "      <th></th>\n",
       "      <th></th>\n",
       "    </tr>\n",
       "  </thead>\n",
       "  <tbody>\n",
       "    <tr>\n",
       "      <th>2016</th>\n",
       "      <td>0.218997</td>\n",
       "      <td>0.248021</td>\n",
       "      <td>0.532982</td>\n",
       "    </tr>\n",
       "    <tr>\n",
       "      <th>2017</th>\n",
       "      <td>0.289474</td>\n",
       "      <td>0.271053</td>\n",
       "      <td>0.439474</td>\n",
       "    </tr>\n",
       "    <tr>\n",
       "      <th>2018</th>\n",
       "      <td>0.178947</td>\n",
       "      <td>0.289474</td>\n",
       "      <td>0.531579</td>\n",
       "    </tr>\n",
       "    <tr>\n",
       "      <th>2019</th>\n",
       "      <td>0.257895</td>\n",
       "      <td>0.257895</td>\n",
       "      <td>0.484211</td>\n",
       "    </tr>\n",
       "    <tr>\n",
       "      <th>2020</th>\n",
       "      <td>0.265789</td>\n",
       "      <td>0.284211</td>\n",
       "      <td>0.450000</td>\n",
       "    </tr>\n",
       "  </tbody>\n",
       "</table>\n",
       "</div>"
      ],
      "text/plain": [
       "result  away_win      draw  home_win\n",
       "year                                \n",
       "2016    0.218997  0.248021  0.532982\n",
       "2017    0.289474  0.271053  0.439474\n",
       "2018    0.178947  0.289474  0.531579\n",
       "2019    0.257895  0.257895  0.484211\n",
       "2020    0.265789  0.284211  0.450000"
      ]
     },
     "execution_count": 11,
     "metadata": {},
     "output_type": "execute_result"
    }
   ],
   "source": [
    "results_by_year = pd.crosstab(br['year'], br['result'], normalize='index')\n",
    "results_by_year"
   ]
  },
  {
   "cell_type": "code",
   "execution_count": 12,
   "id": "ea266603",
   "metadata": {},
   "outputs": [
    {
     "data": {
      "image/png": "[encoded data removed]",
      "text/plain": [
       "<Figure size 432x288 with 2 Axes>"
      ]
     },
     "metadata": {
      "needs_background": "light"
     },
     "output_type": "display_data"
    }
   ],
   "source": [
    "# Easier to compare values visually\n",
    "sns.heatmap(results_by_year, cmap='Blues');"
   ]
  },
  {
   "cell_type": "markdown",
   "id": "3932f8be",
   "metadata": {},
   "source": [
    "Indeed, looking at 2018 and 2019, 2020's results were less positive to those that played at home. However, when we focus on 2017, we realize that 2020 was not the worse season to home teams.\n",
    "\n",
    "Another interesting thing is that in 2018, away wins happened less than 20% of the times.\n",
    "\n",
    "As conclusion, based on these 5 years, we can say that, definitely, play at home influences result. And that 2020, the first covid-19 year, didn't have an abnormal impact on results."
   ]
  },
  {
   "cell_type": "code",
   "execution_count": null,
   "id": "63e0a568",
   "metadata": {},
   "outputs": [],
   "source": []
  }
 ],
 "metadata": {
  "kernelspec": {
   "display_name": "Python 3",
   "language": "python",
   "name": "python3"
  },
  "language_info": {
   "codemirror_mode": {
    "name": "ipython",
    "version": 3
   },
   "file_extension": ".py",
   "mimetype": "text/x-python",
   "name": "python",
   "nbconvert_exporter": "python",
   "pygments_lexer": "ipython3",
   "version": "3.9.5"
  }
 },
 "nbformat": 4,
 "nbformat_minor": 5
}
