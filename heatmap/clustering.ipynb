{
 "cells": [
  {
   "cell_type": "markdown",
   "id": "029e872c",
   "metadata": {},
   "source": [
    "Meu objetivo é criar um modelo de clustering que consiga reconhecer quando jogadores de futebol jogam na mesma posição ou em posições semelhantes. Por exemplo, reconhecer que Diego Alves do Flamengo e que Cássio do Corinthians exercem a mesma posição no campo, ambos são goleiros.\n",
    "\n",
    "Junto a este pequeno projeto existe um outro notebook chamado `heatmap.ipynb` onde a parte de visualização da distribuição dos jogadores em campo é feita."
   ]
  },
  {
   "cell_type": "code",
   "execution_count": 1,
   "id": "007eb0cd",
   "metadata": {},
   "outputs": [],
   "source": [
    "import pandas as pd\n",
    "from plot import plotHeatmap # função criada em heatmap.ipynb nesta mesma pasta\n",
    "import matplotlib.pyplot as plt\n",
    "from sklearn.cluster import KMeans\n",
    "import numpy as np\n",
    "import seaborn as sns"
   ]
  },
  {
   "cell_type": "markdown",
   "id": "47ac65eb",
   "metadata": {},
   "source": [
    "Neste projeto usarei dados de apenas 3 times: Corinthians, Flamengo e São Paulo. Cada linha dos dataframes descreve um toque na bola dado por um jogador no jogo especificado.\n",
    "\n",
    "| Coluna | Descrição |\n",
    "| --- | --- |\n",
    "| X | A localização no eixo x do campo onde o toque foi feito |\n",
    "| Y | A localização no eixo y do campo onde o toque foi feito |\n",
    "| player | O jogador que fez o toque |\n",
    "| match | O jogo em que o jogador fez o toque |\n",
    "\n",
    "Geralmente, um jogador dá mais de 1 toque durante todo um jogo, então uma combinação `match` e `player` se repete várias vezes nos dados. Além disso, um jogador pode tocar na bola em um mesmo lugar mas em momentos diferentes, então a combinação `match`, `player`, `X` e `Y` também é normal de se repetir.\n",
    "\n",
    "Os 3 dataframes são referentes ao Campeonato Brasileiro 2020."
   ]
  },
  {
   "cell_type": "code",
   "execution_count": 2,
   "id": "05b533be",
   "metadata": {},
   "outputs": [
    {
     "data": {
      "text/html": [
       "<div>\n",
       "<style scoped>\n",
       "    .dataframe tbody tr th:only-of-type {\n",
       "        vertical-align: middle;\n",
       "    }\n",
       "\n",
       "    .dataframe tbody tr th {\n",
       "        vertical-align: top;\n",
       "    }\n",
       "\n",
       "    .dataframe thead th {\n",
       "        text-align: right;\n",
       "    }\n",
       "</style>\n",
       "<table border=\"1\" class=\"dataframe\">\n",
       "  <thead>\n",
       "    <tr style=\"text-align: right;\">\n",
       "      <th></th>\n",
       "      <th>match</th>\n",
       "      <th>player</th>\n",
       "      <th>X</th>\n",
       "      <th>Y</th>\n",
       "    </tr>\n",
       "  </thead>\n",
       "  <tbody>\n",
       "    <tr>\n",
       "      <th>0</th>\n",
       "      <td>Corinthians x Atlético GO</td>\n",
       "      <td>Cássio</td>\n",
       "      <td>3</td>\n",
       "      <td>53</td>\n",
       "    </tr>\n",
       "    <tr>\n",
       "      <th>1</th>\n",
       "      <td>Corinthians x Atlético GO</td>\n",
       "      <td>Cássio</td>\n",
       "      <td>11</td>\n",
       "      <td>63</td>\n",
       "    </tr>\n",
       "    <tr>\n",
       "      <th>2</th>\n",
       "      <td>Corinthians x Atlético GO</td>\n",
       "      <td>Cássio</td>\n",
       "      <td>13</td>\n",
       "      <td>19</td>\n",
       "    </tr>\n",
       "    <tr>\n",
       "      <th>3</th>\n",
       "      <td>Corinthians x Atlético GO</td>\n",
       "      <td>Cássio</td>\n",
       "      <td>4</td>\n",
       "      <td>50</td>\n",
       "    </tr>\n",
       "    <tr>\n",
       "      <th>4</th>\n",
       "      <td>Corinthians x Atlético GO</td>\n",
       "      <td>Cássio</td>\n",
       "      <td>4</td>\n",
       "      <td>50</td>\n",
       "    </tr>\n",
       "  </tbody>\n",
       "</table>\n",
       "</div>"
      ],
      "text/plain": [
       "                       match  player   X   Y\n",
       "0  Corinthians x Atlético GO  Cássio   3  53\n",
       "1  Corinthians x Atlético GO  Cássio  11  63\n",
       "2  Corinthians x Atlético GO  Cássio  13  19\n",
       "3  Corinthians x Atlético GO  Cássio   4  50\n",
       "4  Corinthians x Atlético GO  Cássio   4  50"
      ]
     },
     "execution_count": 2,
     "metadata": {},
     "output_type": "execute_result"
    }
   ],
   "source": [
    "cor = pd.read_csv('data/corinthians-heatmap-data.csv')\n",
    "fla = pd.read_csv('data/flamengo-heatmap-data.csv')\n",
    "sao = pd.read_csv('data/saopaulo-heatmap-data.csv')\n",
    "\n",
    "cor.head()"
   ]
  },
  {
   "cell_type": "code",
   "execution_count": 3,
   "id": "2f0ae300",
   "metadata": {},
   "outputs": [
    {
     "data": {
      "text/html": [
       "<div>\n",
       "<style scoped>\n",
       "    .dataframe tbody tr th:only-of-type {\n",
       "        vertical-align: middle;\n",
       "    }\n",
       "\n",
       "    .dataframe tbody tr th {\n",
       "        vertical-align: top;\n",
       "    }\n",
       "\n",
       "    .dataframe thead th {\n",
       "        text-align: right;\n",
       "    }\n",
       "</style>\n",
       "<table border=\"1\" class=\"dataframe\">\n",
       "  <thead>\n",
       "    <tr style=\"text-align: right;\">\n",
       "      <th></th>\n",
       "      <th>match</th>\n",
       "      <th>player</th>\n",
       "      <th>X</th>\n",
       "      <th>Y</th>\n",
       "      <th>team</th>\n",
       "    </tr>\n",
       "  </thead>\n",
       "  <tbody>\n",
       "    <tr>\n",
       "      <th>88687</th>\n",
       "      <td>São Paulo x Flamengo</td>\n",
       "      <td>Pablo</td>\n",
       "      <td>42</td>\n",
       "      <td>88</td>\n",
       "      <td>São Paulo</td>\n",
       "    </tr>\n",
       "    <tr>\n",
       "      <th>88688</th>\n",
       "      <td>São Paulo x Flamengo</td>\n",
       "      <td>Pablo</td>\n",
       "      <td>40</td>\n",
       "      <td>93</td>\n",
       "      <td>São Paulo</td>\n",
       "    </tr>\n",
       "    <tr>\n",
       "      <th>88689</th>\n",
       "      <td>São Paulo x Flamengo</td>\n",
       "      <td>Pablo</td>\n",
       "      <td>60</td>\n",
       "      <td>6</td>\n",
       "      <td>São Paulo</td>\n",
       "    </tr>\n",
       "    <tr>\n",
       "      <th>88690</th>\n",
       "      <td>São Paulo x Flamengo</td>\n",
       "      <td>Pablo</td>\n",
       "      <td>98</td>\n",
       "      <td>15</td>\n",
       "      <td>São Paulo</td>\n",
       "    </tr>\n",
       "    <tr>\n",
       "      <th>88691</th>\n",
       "      <td>São Paulo x Flamengo</td>\n",
       "      <td>Pablo</td>\n",
       "      <td>63</td>\n",
       "      <td>11</td>\n",
       "      <td>São Paulo</td>\n",
       "    </tr>\n",
       "  </tbody>\n",
       "</table>\n",
       "</div>"
      ],
      "text/plain": [
       "                      match player   X   Y       team\n",
       "88687  São Paulo x Flamengo  Pablo  42  88  São Paulo\n",
       "88688  São Paulo x Flamengo  Pablo  40  93  São Paulo\n",
       "88689  São Paulo x Flamengo  Pablo  60   6  São Paulo\n",
       "88690  São Paulo x Flamengo  Pablo  98  15  São Paulo\n",
       "88691  São Paulo x Flamengo  Pablo  63  11  São Paulo"
      ]
     },
     "execution_count": 3,
     "metadata": {},
     "output_type": "execute_result"
    }
   ],
   "source": [
    "# Especificando de qual time se trata cada jogador\n",
    "cor['team'] = 'Corinthians'\n",
    "fla['team'] = 'Flamengo'\n",
    "sao['team'] = 'São Paulo'\n",
    "\n",
    "# Unindo os 3 dataframes\n",
    "teams = pd.concat([cor, fla, sao], axis=0)\n",
    "teams.reset_index(drop=True, inplace=True)\n",
    "teams.tail()"
   ]
  },
  {
   "cell_type": "markdown",
   "id": "ec61bce1",
   "metadata": {},
   "source": [
    "Assim como foi feito em `heatmap.ipynb`, a lógica deste projeto começa pela separação da frequência de toques do jogador em regiões. Abaixo um exemplo de como essas regiões são (o gol adversário sempre será à direita, e a parte superior sempre será o lado direito do campo, tomando o jogador em direção ao gol adversário como referencial), no gráfico, quanto mais escura é a região maior é a frequência de toques daquele jogador naquela área. Também é possível aumentar a quantidade de regiões no gráfico, assim como exibir a quantidade de toques por área, em valores totais ou normalizados, mais detalhes em `heatmap.ipynb`.\n",
    "\n",
    "Para se ter uma pequena ideia, B. Méndez, o jogador representado no gráfico, é zagueiro, mas algumas vezes jogou como lateral direito."
   ]
  },
  {
   "cell_type": "code",
   "execution_count": 4,
   "id": "3711fa15",
   "metadata": {},
   "outputs": [
    {
     "data": {
      "image/png": "[encoded data removed]",
      "text/plain": [
       "<Figure size 576x360 with 2 Axes>"
      ]
     },
     "metadata": {
      "needs_background": "light"
     },
     "output_type": "display_data"
    }
   ],
   "source": [
    "plotHeatmap(cor[cor['player'] == 'B. Méndez'], 7, show_labels=True)"
   ]
  },
  {
   "cell_type": "markdown",
   "id": "523b1e06",
   "metadata": {},
   "source": [
    "Em seguida temos uma função que registra em qual área ocorreu cada toque de cada jogador. A função retorna um novo dataframe, contendo `match`, `player`, `team` e uma coluna para cada área da representação do campo.\n",
    "\n",
    "Anteriormente uma combinação `match` e `player` se repetia porque um jogador dava vários toques em um jogo, agora não mais, os jogadores são agrupados por jogo, então cada linha descreve a distribuição em áreas de um jogador durante o jogo inteiro.\n",
    "\n",
    "Falando dos parâmetros da função, `areas_by_axis` especifica quantas áreas terão na lateral de cada eixo do campo, então se `areas_by_axis` é 6, o campo inteiro é divido em $6\\times6=36$ regiões. Já `normalize` normaliza a distribuição dos toques de um jogador pelas regiões de modo que a soma dos valores das áreas é igual a 1."
   ]
  },
  {
   "cell_type": "code",
   "execution_count": 5,
   "id": "d72b41a9",
   "metadata": {},
   "outputs": [],
   "source": [
    "def getAreasDataframe(data, areas_by_axis=6, normalize=False):\n",
    "    def findYArea():\n",
    "        left = i*areas_size\n",
    "        right = (i+1)*areas_size\n",
    "        \n",
    "        for j in range(areas_by_axis):\n",
    "            down = j*areas_size\n",
    "            up = (j+1)*areas_size\n",
    "            \n",
    "            if left <= x and x <= right   and   down <= y and y <= up:\n",
    "                heatmap_data.at[index, chr(letter_code)+str(areas_by_axis-j)] += 1\n",
    "                return True\n",
    "        return False\n",
    "    \n",
    "    players = data[['match', 'player', 'team']].copy()\n",
    "    \n",
    "    columns = [chr(65+i) + str(j+1) for i in range(areas_by_axis) for j in range(areas_by_axis)]\n",
    "    index = [i for i in range(data.shape[0])]\n",
    "    areas = pd.DataFrame(index=index, columns=columns).fillna(0)\n",
    "    \n",
    "    heatmap_data = pd.concat([players, areas], axis=1)\n",
    "    \n",
    "    for index, row in data.iterrows():\n",
    "        x, y = row['X'], row['Y']\n",
    "\n",
    "        areas_size = 100/areas_by_axis\n",
    "        letter_code = 64\n",
    "        \n",
    "        for i in range(areas_by_axis): # Para cada área no eixo X\n",
    "            letter_code += 1\n",
    "            if findYArea():\n",
    "                break\n",
    "                \n",
    "    heatmap_data = heatmap_data.groupby(['match', 'player', 'team'], as_index=False).sum()\n",
    "    \n",
    "    if normalize:\n",
    "        columns = heatmap_data.select_dtypes(exclude='object').columns\n",
    "        heatmap_data[columns] = (heatmap_data[columns].transpose() / heatmap_data[columns].sum(axis=1)).transpose()\n",
    "    \n",
    "    return heatmap_data"
   ]
  },
  {
   "cell_type": "code",
   "execution_count": 6,
   "id": "7ea76383",
   "metadata": {
    "scrolled": false
   },
   "outputs": [
    {
     "data": {
      "text/html": [
       "<div>\n",
       "<style scoped>\n",
       "    .dataframe tbody tr th:only-of-type {\n",
       "        vertical-align: middle;\n",
       "    }\n",
       "\n",
       "    .dataframe tbody tr th {\n",
       "        vertical-align: top;\n",
       "    }\n",
       "\n",
       "    .dataframe thead th {\n",
       "        text-align: right;\n",
       "    }\n",
       "</style>\n",
       "<table border=\"1\" class=\"dataframe\">\n",
       "  <thead>\n",
       "    <tr style=\"text-align: right;\">\n",
       "      <th></th>\n",
       "      <th>match</th>\n",
       "      <th>player</th>\n",
       "      <th>team</th>\n",
       "      <th>A1</th>\n",
       "      <th>A2</th>\n",
       "      <th>A3</th>\n",
       "      <th>A4</th>\n",
       "      <th>A5</th>\n",
       "      <th>A6</th>\n",
       "      <th>A7</th>\n",
       "      <th>...</th>\n",
       "      <th>F5</th>\n",
       "      <th>F6</th>\n",
       "      <th>F7</th>\n",
       "      <th>G1</th>\n",
       "      <th>G2</th>\n",
       "      <th>G3</th>\n",
       "      <th>G4</th>\n",
       "      <th>G5</th>\n",
       "      <th>G6</th>\n",
       "      <th>G7</th>\n",
       "    </tr>\n",
       "  </thead>\n",
       "  <tbody>\n",
       "    <tr>\n",
       "      <th>0</th>\n",
       "      <td>Athletico-PR x Corinthians</td>\n",
       "      <td>B. Méndez</td>\n",
       "      <td>Corinthians</td>\n",
       "      <td>0.000000</td>\n",
       "      <td>0.000000</td>\n",
       "      <td>0.016393</td>\n",
       "      <td>0.098361</td>\n",
       "      <td>0.032787</td>\n",
       "      <td>0.000000</td>\n",
       "      <td>0.000000</td>\n",
       "      <td>...</td>\n",
       "      <td>0.0</td>\n",
       "      <td>0.00000</td>\n",
       "      <td>0.000000</td>\n",
       "      <td>0.0</td>\n",
       "      <td>0.0</td>\n",
       "      <td>0.00000</td>\n",
       "      <td>0.000000</td>\n",
       "      <td>0.000000</td>\n",
       "      <td>0.000000</td>\n",
       "      <td>0.000000</td>\n",
       "    </tr>\n",
       "    <tr>\n",
       "      <th>1</th>\n",
       "      <td>Athletico-PR x Corinthians</td>\n",
       "      <td>Fagner</td>\n",
       "      <td>Corinthians</td>\n",
       "      <td>0.000000</td>\n",
       "      <td>0.000000</td>\n",
       "      <td>0.000000</td>\n",
       "      <td>0.000000</td>\n",
       "      <td>0.096386</td>\n",
       "      <td>0.024096</td>\n",
       "      <td>0.048193</td>\n",
       "      <td>...</td>\n",
       "      <td>0.0</td>\n",
       "      <td>0.00000</td>\n",
       "      <td>0.024096</td>\n",
       "      <td>0.0</td>\n",
       "      <td>0.0</td>\n",
       "      <td>0.00000</td>\n",
       "      <td>0.012048</td>\n",
       "      <td>0.012048</td>\n",
       "      <td>0.012048</td>\n",
       "      <td>0.108434</td>\n",
       "    </tr>\n",
       "    <tr>\n",
       "      <th>2</th>\n",
       "      <td>Athletico-PR x Corinthians</td>\n",
       "      <td>Gil</td>\n",
       "      <td>Corinthians</td>\n",
       "      <td>0.017544</td>\n",
       "      <td>0.052632</td>\n",
       "      <td>0.105263</td>\n",
       "      <td>0.035088</td>\n",
       "      <td>0.000000</td>\n",
       "      <td>0.000000</td>\n",
       "      <td>0.000000</td>\n",
       "      <td>...</td>\n",
       "      <td>0.0</td>\n",
       "      <td>0.00000</td>\n",
       "      <td>0.000000</td>\n",
       "      <td>0.0</td>\n",
       "      <td>0.0</td>\n",
       "      <td>0.00000</td>\n",
       "      <td>0.000000</td>\n",
       "      <td>0.000000</td>\n",
       "      <td>0.000000</td>\n",
       "      <td>0.000000</td>\n",
       "    </tr>\n",
       "    <tr>\n",
       "      <th>3</th>\n",
       "      <td>Athletico-PR x Corinthians</td>\n",
       "      <td>Jô</td>\n",
       "      <td>Corinthians</td>\n",
       "      <td>0.000000</td>\n",
       "      <td>0.000000</td>\n",
       "      <td>0.000000</td>\n",
       "      <td>0.000000</td>\n",
       "      <td>0.062500</td>\n",
       "      <td>0.000000</td>\n",
       "      <td>0.000000</td>\n",
       "      <td>...</td>\n",
       "      <td>0.0</td>\n",
       "      <td>0.00000</td>\n",
       "      <td>0.000000</td>\n",
       "      <td>0.0</td>\n",
       "      <td>0.0</td>\n",
       "      <td>0.00000</td>\n",
       "      <td>0.031250</td>\n",
       "      <td>0.000000</td>\n",
       "      <td>0.000000</td>\n",
       "      <td>0.000000</td>\n",
       "    </tr>\n",
       "    <tr>\n",
       "      <th>4</th>\n",
       "      <td>Athletico-PR x Corinthians</td>\n",
       "      <td>L. Natel</td>\n",
       "      <td>Corinthians</td>\n",
       "      <td>0.000000</td>\n",
       "      <td>0.000000</td>\n",
       "      <td>0.000000</td>\n",
       "      <td>0.000000</td>\n",
       "      <td>0.000000</td>\n",
       "      <td>0.000000</td>\n",
       "      <td>0.000000</td>\n",
       "      <td>...</td>\n",
       "      <td>0.0</td>\n",
       "      <td>0.04878</td>\n",
       "      <td>0.073171</td>\n",
       "      <td>0.0</td>\n",
       "      <td>0.0</td>\n",
       "      <td>0.02439</td>\n",
       "      <td>0.000000</td>\n",
       "      <td>0.024390</td>\n",
       "      <td>0.073171</td>\n",
       "      <td>0.048780</td>\n",
       "    </tr>\n",
       "  </tbody>\n",
       "</table>\n",
       "<p>5 rows × 52 columns</p>\n",
       "</div>"
      ],
      "text/plain": [
       "                        match     player         team        A1        A2  \\\n",
       "0  Athletico-PR x Corinthians  B. Méndez  Corinthians  0.000000  0.000000   \n",
       "1  Athletico-PR x Corinthians     Fagner  Corinthians  0.000000  0.000000   \n",
       "2  Athletico-PR x Corinthians        Gil  Corinthians  0.017544  0.052632   \n",
       "3  Athletico-PR x Corinthians         Jô  Corinthians  0.000000  0.000000   \n",
       "4  Athletico-PR x Corinthians   L. Natel  Corinthians  0.000000  0.000000   \n",
       "\n",
       "         A3        A4        A5        A6        A7  ...   F5       F6  \\\n",
       "0  0.016393  0.098361  0.032787  0.000000  0.000000  ...  0.0  0.00000   \n",
       "1  0.000000  0.000000  0.096386  0.024096  0.048193  ...  0.0  0.00000   \n",
       "2  0.105263  0.035088  0.000000  0.000000  0.000000  ...  0.0  0.00000   \n",
       "3  0.000000  0.000000  0.062500  0.000000  0.000000  ...  0.0  0.00000   \n",
       "4  0.000000  0.000000  0.000000  0.000000  0.000000  ...  0.0  0.04878   \n",
       "\n",
       "         F7   G1   G2       G3        G4        G5        G6        G7  \n",
       "0  0.000000  0.0  0.0  0.00000  0.000000  0.000000  0.000000  0.000000  \n",
       "1  0.024096  0.0  0.0  0.00000  0.012048  0.012048  0.012048  0.108434  \n",
       "2  0.000000  0.0  0.0  0.00000  0.000000  0.000000  0.000000  0.000000  \n",
       "3  0.000000  0.0  0.0  0.00000  0.031250  0.000000  0.000000  0.000000  \n",
       "4  0.073171  0.0  0.0  0.02439  0.000000  0.024390  0.073171  0.048780  \n",
       "\n",
       "[5 rows x 52 columns]"
      ]
     },
     "execution_count": 6,
     "metadata": {},
     "output_type": "execute_result"
    }
   ],
   "source": [
    "# Obtendo a distribuição por área dos jogadores, sendo 49 áreas,\n",
    "# e normalizando para que todos os valores tenham a mesma proporção\n",
    "\n",
    "data = getAreasDataframe(teams, areas_by_axis=7, normalize=True)\n",
    "data[data.columns].head()"
   ]
  },
  {
   "cell_type": "markdown",
   "id": "d0ae51f8",
   "metadata": {},
   "source": [
    "Interpretando um pouco do resultado, L. Natel, na linha 4, durante o jogo Athletico-PR x Corinthians não deu nenhum toque na bola em nenhuma das áreas A's, que é ali a borda mais próxima do eixo y, onde fica o goleiro. Já o Jô, linha 3, 6.25% de todos os seus toques na bola durante o mesmo jogo foram dentro da área A5.\n",
    "\n",
    "Com os dados no formato que eu queria, eu já posso criar um modelo de clustering, no caso, usarei K-Means. O meu modelo vai criar 20 cluster, ou grupos, onde cada cluster terão jogadores que tiveram comportamento semelhantes entre si durante um jogo.\n",
    "\n",
    "Pode ser que um mesmo jogador seja classificado de forma diferente em jogos diferentes, isso porque ele pode ter, naturalmente, jogado em outra posição, mais recuado, mais ofensivo ou mais ao lado etc."
   ]
  },
  {
   "cell_type": "code",
   "execution_count": 7,
   "id": "8e205dd2",
   "metadata": {},
   "outputs": [],
   "source": [
    "areas_columns = data.columns[3:]\n",
    "\n",
    "km = KMeans(n_clusters=20, random_state=0)\n",
    "\n",
    "km.fit(data[areas_columns])\n",
    "\n",
    "# Criando uma coluna para obter as classificações para cada linha\n",
    "data['cluster'] = km.predict(data[areas_columns])"
   ]
  },
  {
   "cell_type": "code",
   "execution_count": 8,
   "id": "fa71972d",
   "metadata": {},
   "outputs": [
    {
     "data": {
      "text/html": [
       "<div>\n",
       "<style scoped>\n",
       "    .dataframe tbody tr th:only-of-type {\n",
       "        vertical-align: middle;\n",
       "    }\n",
       "\n",
       "    .dataframe tbody tr th {\n",
       "        vertical-align: top;\n",
       "    }\n",
       "\n",
       "    .dataframe thead th {\n",
       "        text-align: right;\n",
       "    }\n",
       "</style>\n",
       "<table border=\"1\" class=\"dataframe\">\n",
       "  <thead>\n",
       "    <tr style=\"text-align: right;\">\n",
       "      <th></th>\n",
       "      <th>match</th>\n",
       "      <th>player</th>\n",
       "      <th>cluster</th>\n",
       "    </tr>\n",
       "  </thead>\n",
       "  <tbody>\n",
       "    <tr>\n",
       "      <th>0</th>\n",
       "      <td>Athletico-PR x Corinthians</td>\n",
       "      <td>B. Méndez</td>\n",
       "      <td>18</td>\n",
       "    </tr>\n",
       "    <tr>\n",
       "      <th>1</th>\n",
       "      <td>Athletico-PR x Corinthians</td>\n",
       "      <td>Fagner</td>\n",
       "      <td>2</td>\n",
       "    </tr>\n",
       "    <tr>\n",
       "      <th>2</th>\n",
       "      <td>Athletico-PR x Corinthians</td>\n",
       "      <td>Gil</td>\n",
       "      <td>17</td>\n",
       "    </tr>\n",
       "    <tr>\n",
       "      <th>3</th>\n",
       "      <td>Athletico-PR x Corinthians</td>\n",
       "      <td>Jô</td>\n",
       "      <td>4</td>\n",
       "    </tr>\n",
       "    <tr>\n",
       "      <th>4</th>\n",
       "      <td>Athletico-PR x Corinthians</td>\n",
       "      <td>L. Natel</td>\n",
       "      <td>11</td>\n",
       "    </tr>\n",
       "  </tbody>\n",
       "</table>\n",
       "</div>"
      ],
      "text/plain": [
       "                        match     player  cluster\n",
       "0  Athletico-PR x Corinthians  B. Méndez       18\n",
       "1  Athletico-PR x Corinthians     Fagner        2\n",
       "2  Athletico-PR x Corinthians        Gil       17\n",
       "3  Athletico-PR x Corinthians         Jô        4\n",
       "4  Athletico-PR x Corinthians   L. Natel       11"
      ]
     },
     "execution_count": 8,
     "metadata": {},
     "output_type": "execute_result"
    }
   ],
   "source": [
    "# Os clusters de cada jogador por jogo\n",
    "data[['match', 'player', 'cluster']].head()"
   ]
  },
  {
   "cell_type": "markdown",
   "id": "43c86ba3",
   "metadata": {},
   "source": [
    "Vemos que o cluster que o Fagner faz parte no jogo Athletico-PR x Corinthians é o 2, mas não sabemos ainda o que cada cluster significa. Para resolver isso, no caso deste projeto, podemos usar `km.cluster_centers_` para visualizar sob qual base cada linha do dataframe foi classificada.\n",
    "\n",
    "Então abaixo temos um heatmap com a frequência média dos jogadores classificados como cluster 2, que realmente se assemelha muito ao comportamento de um lateral direito, a posição do Fagner."
   ]
  },
  {
   "cell_type": "code",
   "execution_count": 61,
   "id": "7cd5ded9",
   "metadata": {},
   "outputs": [
    {
     "data": {
      "image/png": "[encoded data removed]",
      "text/plain": [
       "<Figure size 432x288 with 2 Axes>"
      ]
     },
     "metadata": {
      "needs_background": "light"
     },
     "output_type": "display_data"
    }
   ],
   "source": [
    "def plotCluster(cluster):\n",
    "    n_areas = 7\n",
    "\n",
    "    a1 = km.cluster_centers_[cluster,:]\n",
    "\n",
    "    c2 = np.empty((n_areas, n_areas))\n",
    "    \n",
    "    for i in range(n_areas):\n",
    "        c2[:,i] = a1[i*n_areas:(i+1)*n_areas]\n",
    "    \n",
    "    xlabels = [chr(65+i) for i in range(n_areas)]\n",
    "    ylabels = [i+1 for i in range(n_areas)]\n",
    "    sns.heatmap(c2, cmap='Blues', xticklabels=xlabels, yticklabels=ylabels);\n",
    "\n",
    "plotCluster(2)"
   ]
  },
  {
   "cell_type": "markdown",
   "id": "03f8577c",
   "metadata": {},
   "source": [
    "E a título de curiosidade também é fácil saber quais outros jogadores foram classificados no mesmo cluster que o Fagner, e quantas vezes eles foram classificados."
   ]
  },
  {
   "cell_type": "code",
   "execution_count": 11,
   "id": "9c49061a",
   "metadata": {},
   "outputs": [
    {
     "data": {
      "text/plain": [
       "Fagner         25\n",
       "M. Isla        13\n",
       "I. Vinícius    13\n",
       "Juanfran        9\n",
       "M. Macedo       5\n",
       "Name: player, dtype: int64"
      ]
     },
     "execution_count": 11,
     "metadata": {},
     "output_type": "execute_result"
    }
   ],
   "source": [
    "data[data['cluster'] == 2]['player'].value_counts().head()"
   ]
  },
  {
   "cell_type": "markdown",
   "id": "a0b18ada",
   "metadata": {},
   "source": [
    "Ok, o Juanfran foi classificado 9 vezes como cluster 2, mas quantos jogos o Juanfran jogou? Não podemos cravar que o cluster 2 é o cluster perfeito para o jogador, ele pode ter sido classificado 9 vezes como cluster 2 e 29 vezes como cluster 3, por tanto, o cluster 3 seria o mais ideal para defini-lo.\n",
    "\n",
    "Para resolver isso, vamos fazer mais algumas manipulações de dados.\n",
    "\n",
    "Irei utilizar o método One-Hot Encoder para separar a coluna `cluster` em várias outras e vou normalizar as linhas de modo que cada coluna diz a porcentagem de vezes que um jogador foi classificado em um determinado cluster. Por exemplo, podemos ver que o Reinaldo foi classificado em 73.5% dos jogos como sendo do cluster 3 e em 26.5% dos jogos como sendo do cluster 8."
   ]
  },
  {
   "cell_type": "code",
   "execution_count": 33,
   "id": "3bdf374e",
   "metadata": {
    "scrolled": false
   },
   "outputs": [
    {
     "data": {
      "text/html": [
       "<div>\n",
       "<style scoped>\n",
       "    .dataframe tbody tr th:only-of-type {\n",
       "        vertical-align: middle;\n",
       "    }\n",
       "\n",
       "    .dataframe tbody tr th {\n",
       "        vertical-align: top;\n",
       "    }\n",
       "\n",
       "    .dataframe thead th {\n",
       "        text-align: right;\n",
       "    }\n",
       "</style>\n",
       "<table border=\"1\" class=\"dataframe\">\n",
       "  <thead>\n",
       "    <tr style=\"text-align: right;\">\n",
       "      <th></th>\n",
       "      <th>cluster</th>\n",
       "      <th>0</th>\n",
       "      <th>1</th>\n",
       "      <th>2</th>\n",
       "      <th>3</th>\n",
       "      <th>4</th>\n",
       "      <th>5</th>\n",
       "      <th>6</th>\n",
       "      <th>7</th>\n",
       "      <th>8</th>\n",
       "      <th>9</th>\n",
       "      <th>10</th>\n",
       "      <th>11</th>\n",
       "      <th>12</th>\n",
       "      <th>13</th>\n",
       "      <th>14</th>\n",
       "      <th>15</th>\n",
       "      <th>16</th>\n",
       "      <th>17</th>\n",
       "      <th>18</th>\n",
       "      <th>19</th>\n",
       "    </tr>\n",
       "    <tr>\n",
       "      <th>team</th>\n",
       "      <th>player</th>\n",
       "      <th></th>\n",
       "      <th></th>\n",
       "      <th></th>\n",
       "      <th></th>\n",
       "      <th></th>\n",
       "      <th></th>\n",
       "      <th></th>\n",
       "      <th></th>\n",
       "      <th></th>\n",
       "      <th></th>\n",
       "      <th></th>\n",
       "      <th></th>\n",
       "      <th></th>\n",
       "      <th></th>\n",
       "      <th></th>\n",
       "      <th></th>\n",
       "      <th></th>\n",
       "      <th></th>\n",
       "      <th></th>\n",
       "      <th></th>\n",
       "    </tr>\n",
       "  </thead>\n",
       "  <tbody>\n",
       "    <tr>\n",
       "      <th rowspan=\"5\" valign=\"top\">Corinthians</th>\n",
       "      <th>B. Méndez</th>\n",
       "      <td>0.000000</td>\n",
       "      <td>0.000000</td>\n",
       "      <td>0.066667</td>\n",
       "      <td>0.000000</td>\n",
       "      <td>0.066667</td>\n",
       "      <td>0.000000</td>\n",
       "      <td>0.000000</td>\n",
       "      <td>0.000000</td>\n",
       "      <td>0.000000</td>\n",
       "      <td>0.533333</td>\n",
       "      <td>0.0</td>\n",
       "      <td>0.0000</td>\n",
       "      <td>0.000000</td>\n",
       "      <td>0.000000</td>\n",
       "      <td>0.000000</td>\n",
       "      <td>0.0</td>\n",
       "      <td>0.000000</td>\n",
       "      <td>0.000000</td>\n",
       "      <td>0.333333</td>\n",
       "      <td>0.000000</td>\n",
       "    </tr>\n",
       "    <tr>\n",
       "      <th>Cássio</th>\n",
       "      <td>0.371429</td>\n",
       "      <td>0.000000</td>\n",
       "      <td>0.000000</td>\n",
       "      <td>0.000000</td>\n",
       "      <td>0.000000</td>\n",
       "      <td>0.628571</td>\n",
       "      <td>0.000000</td>\n",
       "      <td>0.000000</td>\n",
       "      <td>0.000000</td>\n",
       "      <td>0.000000</td>\n",
       "      <td>0.0</td>\n",
       "      <td>0.0000</td>\n",
       "      <td>0.000000</td>\n",
       "      <td>0.000000</td>\n",
       "      <td>0.000000</td>\n",
       "      <td>0.0</td>\n",
       "      <td>0.000000</td>\n",
       "      <td>0.000000</td>\n",
       "      <td>0.000000</td>\n",
       "      <td>0.000000</td>\n",
       "    </tr>\n",
       "    <tr>\n",
       "      <th>D. Avelar</th>\n",
       "      <td>0.000000</td>\n",
       "      <td>0.000000</td>\n",
       "      <td>0.000000</td>\n",
       "      <td>0.000000</td>\n",
       "      <td>0.000000</td>\n",
       "      <td>0.000000</td>\n",
       "      <td>0.538462</td>\n",
       "      <td>0.000000</td>\n",
       "      <td>0.000000</td>\n",
       "      <td>0.000000</td>\n",
       "      <td>0.0</td>\n",
       "      <td>0.0000</td>\n",
       "      <td>0.000000</td>\n",
       "      <td>0.000000</td>\n",
       "      <td>0.000000</td>\n",
       "      <td>0.0</td>\n",
       "      <td>0.000000</td>\n",
       "      <td>0.461538</td>\n",
       "      <td>0.000000</td>\n",
       "      <td>0.000000</td>\n",
       "    </tr>\n",
       "    <tr>\n",
       "      <th>Everaldo</th>\n",
       "      <td>0.000000</td>\n",
       "      <td>0.000000</td>\n",
       "      <td>0.000000</td>\n",
       "      <td>0.200000</td>\n",
       "      <td>0.000000</td>\n",
       "      <td>0.000000</td>\n",
       "      <td>0.000000</td>\n",
       "      <td>0.000000</td>\n",
       "      <td>0.200000</td>\n",
       "      <td>0.000000</td>\n",
       "      <td>0.0</td>\n",
       "      <td>0.0000</td>\n",
       "      <td>0.000000</td>\n",
       "      <td>0.000000</td>\n",
       "      <td>0.000000</td>\n",
       "      <td>0.0</td>\n",
       "      <td>0.600000</td>\n",
       "      <td>0.000000</td>\n",
       "      <td>0.000000</td>\n",
       "      <td>0.000000</td>\n",
       "    </tr>\n",
       "    <tr>\n",
       "      <th>Fagner</th>\n",
       "      <td>0.000000</td>\n",
       "      <td>0.000000</td>\n",
       "      <td>0.781250</td>\n",
       "      <td>0.000000</td>\n",
       "      <td>0.000000</td>\n",
       "      <td>0.000000</td>\n",
       "      <td>0.000000</td>\n",
       "      <td>0.000000</td>\n",
       "      <td>0.000000</td>\n",
       "      <td>0.000000</td>\n",
       "      <td>0.0</td>\n",
       "      <td>0.0625</td>\n",
       "      <td>0.000000</td>\n",
       "      <td>0.000000</td>\n",
       "      <td>0.000000</td>\n",
       "      <td>0.0</td>\n",
       "      <td>0.000000</td>\n",
       "      <td>0.000000</td>\n",
       "      <td>0.000000</td>\n",
       "      <td>0.156250</td>\n",
       "    </tr>\n",
       "    <tr>\n",
       "      <th>...</th>\n",
       "      <th>...</th>\n",
       "      <td>...</td>\n",
       "      <td>...</td>\n",
       "      <td>...</td>\n",
       "      <td>...</td>\n",
       "      <td>...</td>\n",
       "      <td>...</td>\n",
       "      <td>...</td>\n",
       "      <td>...</td>\n",
       "      <td>...</td>\n",
       "      <td>...</td>\n",
       "      <td>...</td>\n",
       "      <td>...</td>\n",
       "      <td>...</td>\n",
       "      <td>...</td>\n",
       "      <td>...</td>\n",
       "      <td>...</td>\n",
       "      <td>...</td>\n",
       "      <td>...</td>\n",
       "      <td>...</td>\n",
       "      <td>...</td>\n",
       "    </tr>\n",
       "    <tr>\n",
       "      <th rowspan=\"5\" valign=\"top\">São Paulo</th>\n",
       "      <th>Reinaldo</th>\n",
       "      <td>0.000000</td>\n",
       "      <td>0.000000</td>\n",
       "      <td>0.000000</td>\n",
       "      <td>0.735294</td>\n",
       "      <td>0.000000</td>\n",
       "      <td>0.000000</td>\n",
       "      <td>0.000000</td>\n",
       "      <td>0.000000</td>\n",
       "      <td>0.264706</td>\n",
       "      <td>0.000000</td>\n",
       "      <td>0.0</td>\n",
       "      <td>0.0000</td>\n",
       "      <td>0.000000</td>\n",
       "      <td>0.000000</td>\n",
       "      <td>0.000000</td>\n",
       "      <td>0.0</td>\n",
       "      <td>0.000000</td>\n",
       "      <td>0.000000</td>\n",
       "      <td>0.000000</td>\n",
       "      <td>0.000000</td>\n",
       "    </tr>\n",
       "    <tr>\n",
       "      <th>T. Tchê</th>\n",
       "      <td>0.000000</td>\n",
       "      <td>0.310345</td>\n",
       "      <td>0.034483</td>\n",
       "      <td>0.000000</td>\n",
       "      <td>0.137931</td>\n",
       "      <td>0.000000</td>\n",
       "      <td>0.000000</td>\n",
       "      <td>0.172414</td>\n",
       "      <td>0.000000</td>\n",
       "      <td>0.034483</td>\n",
       "      <td>0.0</td>\n",
       "      <td>0.0000</td>\n",
       "      <td>0.000000</td>\n",
       "      <td>0.000000</td>\n",
       "      <td>0.034483</td>\n",
       "      <td>0.0</td>\n",
       "      <td>0.206897</td>\n",
       "      <td>0.034483</td>\n",
       "      <td>0.000000</td>\n",
       "      <td>0.034483</td>\n",
       "    </tr>\n",
       "    <tr>\n",
       "      <th>T. Volpi</th>\n",
       "      <td>0.473684</td>\n",
       "      <td>0.000000</td>\n",
       "      <td>0.000000</td>\n",
       "      <td>0.000000</td>\n",
       "      <td>0.000000</td>\n",
       "      <td>0.526316</td>\n",
       "      <td>0.000000</td>\n",
       "      <td>0.000000</td>\n",
       "      <td>0.000000</td>\n",
       "      <td>0.000000</td>\n",
       "      <td>0.0</td>\n",
       "      <td>0.0000</td>\n",
       "      <td>0.000000</td>\n",
       "      <td>0.000000</td>\n",
       "      <td>0.000000</td>\n",
       "      <td>0.0</td>\n",
       "      <td>0.000000</td>\n",
       "      <td>0.000000</td>\n",
       "      <td>0.000000</td>\n",
       "      <td>0.000000</td>\n",
       "    </tr>\n",
       "    <tr>\n",
       "      <th>V. F. Bueno</th>\n",
       "      <td>0.000000</td>\n",
       "      <td>0.000000</td>\n",
       "      <td>0.000000</td>\n",
       "      <td>0.000000</td>\n",
       "      <td>0.095238</td>\n",
       "      <td>0.000000</td>\n",
       "      <td>0.000000</td>\n",
       "      <td>0.095238</td>\n",
       "      <td>0.238095</td>\n",
       "      <td>0.000000</td>\n",
       "      <td>0.0</td>\n",
       "      <td>0.0000</td>\n",
       "      <td>0.047619</td>\n",
       "      <td>0.047619</td>\n",
       "      <td>0.428571</td>\n",
       "      <td>0.0</td>\n",
       "      <td>0.047619</td>\n",
       "      <td>0.000000</td>\n",
       "      <td>0.000000</td>\n",
       "      <td>0.000000</td>\n",
       "    </tr>\n",
       "    <tr>\n",
       "      <th>Welington</th>\n",
       "      <td>0.000000</td>\n",
       "      <td>0.000000</td>\n",
       "      <td>0.000000</td>\n",
       "      <td>1.000000</td>\n",
       "      <td>0.000000</td>\n",
       "      <td>0.000000</td>\n",
       "      <td>0.000000</td>\n",
       "      <td>0.000000</td>\n",
       "      <td>0.000000</td>\n",
       "      <td>0.000000</td>\n",
       "      <td>0.0</td>\n",
       "      <td>0.0000</td>\n",
       "      <td>0.000000</td>\n",
       "      <td>0.000000</td>\n",
       "      <td>0.000000</td>\n",
       "      <td>0.0</td>\n",
       "      <td>0.000000</td>\n",
       "      <td>0.000000</td>\n",
       "      <td>0.000000</td>\n",
       "      <td>0.000000</td>\n",
       "    </tr>\n",
       "  </tbody>\n",
       "</table>\n",
       "<p>92 rows × 20 columns</p>\n",
       "</div>"
      ],
      "text/plain": [
       "cluster                        0         1         2         3         4   \\\n",
       "team        player                                                          \n",
       "Corinthians B. Méndez    0.000000  0.000000  0.066667  0.000000  0.066667   \n",
       "            Cássio       0.371429  0.000000  0.000000  0.000000  0.000000   \n",
       "            D. Avelar    0.000000  0.000000  0.000000  0.000000  0.000000   \n",
       "            Everaldo     0.000000  0.000000  0.000000  0.200000  0.000000   \n",
       "            Fagner       0.000000  0.000000  0.781250  0.000000  0.000000   \n",
       "...                           ...       ...       ...       ...       ...   \n",
       "São Paulo   Reinaldo     0.000000  0.000000  0.000000  0.735294  0.000000   \n",
       "            T. Tchê      0.000000  0.310345  0.034483  0.000000  0.137931   \n",
       "            T. Volpi     0.473684  0.000000  0.000000  0.000000  0.000000   \n",
       "            V. F. Bueno  0.000000  0.000000  0.000000  0.000000  0.095238   \n",
       "            Welington    0.000000  0.000000  0.000000  1.000000  0.000000   \n",
       "\n",
       "cluster                        5         6         7         8         9   \\\n",
       "team        player                                                          \n",
       "Corinthians B. Méndez    0.000000  0.000000  0.000000  0.000000  0.533333   \n",
       "            Cássio       0.628571  0.000000  0.000000  0.000000  0.000000   \n",
       "            D. Avelar    0.000000  0.538462  0.000000  0.000000  0.000000   \n",
       "            Everaldo     0.000000  0.000000  0.000000  0.200000  0.000000   \n",
       "            Fagner       0.000000  0.000000  0.000000  0.000000  0.000000   \n",
       "...                           ...       ...       ...       ...       ...   \n",
       "São Paulo   Reinaldo     0.000000  0.000000  0.000000  0.264706  0.000000   \n",
       "            T. Tchê      0.000000  0.000000  0.172414  0.000000  0.034483   \n",
       "            T. Volpi     0.526316  0.000000  0.000000  0.000000  0.000000   \n",
       "            V. F. Bueno  0.000000  0.000000  0.095238  0.238095  0.000000   \n",
       "            Welington    0.000000  0.000000  0.000000  0.000000  0.000000   \n",
       "\n",
       "cluster                   10      11        12        13        14   15  \\\n",
       "team        player                                                        \n",
       "Corinthians B. Méndez    0.0  0.0000  0.000000  0.000000  0.000000  0.0   \n",
       "            Cássio       0.0  0.0000  0.000000  0.000000  0.000000  0.0   \n",
       "            D. Avelar    0.0  0.0000  0.000000  0.000000  0.000000  0.0   \n",
       "            Everaldo     0.0  0.0000  0.000000  0.000000  0.000000  0.0   \n",
       "            Fagner       0.0  0.0625  0.000000  0.000000  0.000000  0.0   \n",
       "...                      ...     ...       ...       ...       ...  ...   \n",
       "São Paulo   Reinaldo     0.0  0.0000  0.000000  0.000000  0.000000  0.0   \n",
       "            T. Tchê      0.0  0.0000  0.000000  0.000000  0.034483  0.0   \n",
       "            T. Volpi     0.0  0.0000  0.000000  0.000000  0.000000  0.0   \n",
       "            V. F. Bueno  0.0  0.0000  0.047619  0.047619  0.428571  0.0   \n",
       "            Welington    0.0  0.0000  0.000000  0.000000  0.000000  0.0   \n",
       "\n",
       "cluster                        16        17        18        19  \n",
       "team        player                                               \n",
       "Corinthians B. Méndez    0.000000  0.000000  0.333333  0.000000  \n",
       "            Cássio       0.000000  0.000000  0.000000  0.000000  \n",
       "            D. Avelar    0.000000  0.461538  0.000000  0.000000  \n",
       "            Everaldo     0.600000  0.000000  0.000000  0.000000  \n",
       "            Fagner       0.000000  0.000000  0.000000  0.156250  \n",
       "...                           ...       ...       ...       ...  \n",
       "São Paulo   Reinaldo     0.000000  0.000000  0.000000  0.000000  \n",
       "            T. Tchê      0.206897  0.034483  0.000000  0.034483  \n",
       "            T. Volpi     0.000000  0.000000  0.000000  0.000000  \n",
       "            V. F. Bueno  0.047619  0.000000  0.000000  0.000000  \n",
       "            Welington    0.000000  0.000000  0.000000  0.000000  \n",
       "\n",
       "[92 rows x 20 columns]"
      ]
     },
     "execution_count": 33,
     "metadata": {},
     "output_type": "execute_result"
    }
   ],
   "source": [
    "freq_df = pd.crosstab([data['team'], data['player']], data['cluster'], normalize='index')\n",
    "freq_df"
   ]
  },
  {
   "cell_type": "code",
   "execution_count": 43,
   "id": "7ce6af97",
   "metadata": {},
   "outputs": [
    {
     "data": {
      "text/plain": [
       "cluster\n",
       "5     0.628571\n",
       "0     0.371429\n",
       "11    0.000000\n",
       "18    0.000000\n",
       "17    0.000000\n",
       "Name: (Corinthians, Cássio), dtype: float64"
      ]
     },
     "execution_count": 43,
     "metadata": {},
     "output_type": "execute_result"
    }
   ],
   "source": [
    "# Frequência de classificações do Cássio por cluster\n",
    "freq_df.loc[('Corinthians', 'Cássio'),:].sort_values(ascending=False).head()"
   ]
  },
  {
   "cell_type": "code",
   "execution_count": 44,
   "id": "4e5c251f",
   "metadata": {},
   "outputs": [
    {
     "data": {
      "text/plain": [
       "cluster\n",
       "0     0.5\n",
       "5     0.5\n",
       "11    0.0\n",
       "18    0.0\n",
       "17    0.0\n",
       "Name: (Flamengo, D. Alves), dtype: float64"
      ]
     },
     "execution_count": 44,
     "metadata": {},
     "output_type": "execute_result"
    }
   ],
   "source": [
    "# Frequência de classificações do Diego Alves por cluster\n",
    "freq_df.loc[('Flamengo', 'D. Alves'),:].sort_values(ascending=False).head()"
   ]
  },
  {
   "cell_type": "markdown",
   "id": "62860c9e",
   "metadata": {},
   "source": [
    "Estranhamente, os goleiros Cássio, D. Alves e T. Volpi foram classificados com dois clusters diferentes, isso parece estranho porque quem joga como goleiro não varia posição, é goleiro do início ao fim do jogo e do início ao fim do campeonato.\n",
    "\n",
    "Vamos dar uma olhada nos clusters que foram usados para os goleiros."
   ]
  },
  {
   "cell_type": "code",
   "execution_count": 62,
   "id": "03f693f5",
   "metadata": {},
   "outputs": [
    {
     "data": {
      "image/png": "[encoded data removed]",
      "text/plain": [
       "<Figure size 432x288 with 2 Axes>"
      ]
     },
     "metadata": {
      "needs_background": "light"
     },
     "output_type": "display_data"
    }
   ],
   "source": [
    "plotCluster(0)"
   ]
  },
  {
   "cell_type": "code",
   "execution_count": 63,
   "id": "3128ca91",
   "metadata": {},
   "outputs": [
    {
     "data": {
      "image/png": "[encoded data removed]",
      "text/plain": [
       "<Figure size 432x288 with 2 Axes>"
      ]
     },
     "metadata": {
      "needs_background": "light"
     },
     "output_type": "display_data"
    }
   ],
   "source": [
    "plotCluster(5)"
   ]
  },
  {
   "cell_type": "markdown",
   "id": "b35e7c5d",
   "metadata": {},
   "source": [
    "Fazendo uma análise visual rápida, de fato, os clusters 0 e 5 são muito semelhantes e sem dúvidas ambos descrevem um goleiro. No entanto, a principal diferença entre eles é que o cluster 5 é mais concentrado em uma área, sendo 60% dos toques dentro de uma só região, enquanto que no cluster 0, a concentração de toques em uma região não passa de 40%."
   ]
  },
  {
   "cell_type": "code",
   "execution_count": 45,
   "id": "5a6e3472",
   "metadata": {},
   "outputs": [
    {
     "data": {
      "text/plain": [
       "cluster\n",
       "7     0.303030\n",
       "4     0.242424\n",
       "13    0.121212\n",
       "10    0.090909\n",
       "15    0.060606\n",
       "Name: (Flamengo, Gerson), dtype: float64"
      ]
     },
     "execution_count": 45,
     "metadata": {},
     "output_type": "execute_result"
    }
   ],
   "source": [
    "# Frequência de classificações do Gerson por cluster\n",
    "freq_df.loc[('Flamengo', 'Gerson'),:].sort_values(ascending=False).head()"
   ]
  },
  {
   "cell_type": "code",
   "execution_count": 46,
   "id": "e96b5ea4",
   "metadata": {},
   "outputs": [
    {
     "data": {
      "text/plain": [
       "cluster\n",
       "4     0.500000\n",
       "1     0.200000\n",
       "16    0.100000\n",
       "7     0.100000\n",
       "2     0.033333\n",
       "Name: (São Paulo, D. Alves), dtype: float64"
      ]
     },
     "execution_count": 46,
     "metadata": {},
     "output_type": "execute_result"
    }
   ],
   "source": [
    "# Frequência de classificações do Daniel Alves por cluster\n",
    "freq_df.loc[('São Paulo', 'D. Alves'),:].sort_values(ascending=False).head()"
   ]
  },
  {
   "cell_type": "code",
   "execution_count": 64,
   "id": "394eacf1",
   "metadata": {},
   "outputs": [
    {
     "data": {
      "image/png": "[encoded data removed]",
      "text/plain": [
       "<Figure size 432x288 with 2 Axes>"
      ]
     },
     "metadata": {
      "needs_background": "light"
     },
     "output_type": "display_data"
    }
   ],
   "source": [
    "# Visualizando o cluster mais frequente para o Gerson do Flamengo\n",
    "plotCluster(7)"
   ]
  },
  {
   "cell_type": "code",
   "execution_count": 65,
   "id": "54fb4565",
   "metadata": {},
   "outputs": [
    {
     "data": {
      "image/png": "[encoded data removed]",
      "text/plain": [
       "<Figure size 432x288 with 2 Axes>"
      ]
     },
     "metadata": {
      "needs_background": "light"
     },
     "output_type": "display_data"
    }
   ],
   "source": [
    "# Visualizando o cluster mais frequente para o Daniel Alves do São Paulo, que é também o segundo mais frequente para o Gerson\n",
    "plotCluster(4)"
   ]
  },
  {
   "cell_type": "code",
   "execution_count": 77,
   "id": "a4609aec",
   "metadata": {},
   "outputs": [
    {
     "data": {
      "text/plain": [
       "team         player    \n",
       "Flamengo     Pepê          1.000000\n",
       "São Paulo    D. Alves      0.500000\n",
       "Flamengo     João Gomes    0.400000\n",
       "São Paulo    Luciano       0.387097\n",
       "Corinthians  Ramiro        0.333333\n",
       "Name: 4, dtype: float64"
      ]
     },
     "execution_count": 77,
     "metadata": {},
     "output_type": "execute_result"
    }
   ],
   "source": [
    "# Obtendo os jogadores mais vezes classificados como do cluster 4, sendo o Pepê classificado dessa forma em 100% de seus jogos\n",
    "freq_df[4].sort_values(ascending=False).head()"
   ]
  },
  {
   "cell_type": "code",
   "execution_count": null,
   "id": "56b5c3fe",
   "metadata": {},
   "outputs": [],
   "source": []
  }
 ],
 "metadata": {
  "kernelspec": {
   "display_name": "Python 3",
   "language": "python",
   "name": "python3"
  },
  "language_info": {
   "codemirror_mode": {
    "name": "ipython",
    "version": 3
   },
   "file_extension": ".py",
   "mimetype": "text/x-python",
   "name": "python",
   "nbconvert_exporter": "python",
   "pygments_lexer": "ipython3",
   "version": "3.9.5"
  }
 },
 "nbformat": 4,
 "nbformat_minor": 5
}
