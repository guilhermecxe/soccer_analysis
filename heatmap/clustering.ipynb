{
 "cells": [
  {
   "cell_type": "markdown",
   "id": "029e872c",
   "metadata": {},
   "source": [
    "My goal is to create a clustering a model that can recognize when soccer players play at the same position or similar positions. For example, recognize that Diego Alves from Flamengo and Cássio from Corinthians perform the same function at the field, both are goalkeepers.\n",
    "\n",
    "With this project there is another jupyter notebook called `heatmap.ipynb` where the visualization part is made, basically, there I am building, and explaining better, `plotHeatmap`."
   ]
  },
  {
   "cell_type": "code",
   "execution_count": 1,
   "id": "007eb0cd",
   "metadata": {},
   "outputs": [],
   "source": [
    "import pandas as pd\n",
    "from plot import plotHeatmap # function created in heatmap.ipynb on this same directory\n",
    "import matplotlib.pyplot as plt\n",
    "from sklearn.cluster import KMeans\n",
    "import numpy as np\n",
    "import seaborn as sns"
   ]
  },
  {
   "cell_type": "markdown",
   "id": "47ac65eb",
   "metadata": {},
   "source": [
    "On this project I am going to use 3 teams: Corinthians, Flamengo and São Paulo.\n",
    "\n",
    "Each row from the dataframe describes a touch on ball given by a player on a specific match.\n",
    "\n",
    "| Column | Description |\n",
    "| --- | --- |\n",
    "| X | Location on x axis where the touch was given |\n",
    "| Y | Location on y axis where the touch was given |\n",
    "| player | The player who made the touch |\n",
    "| match | The match in which the player made the touch |\n",
    "\n",
    "Each repeated row means another touch on the same position.\n",
    "\n",
    "The 3 dataframes are referents to matches from Campeonato Brasileiro 2020."
   ]
  },
  {
   "cell_type": "code",
   "execution_count": 2,
   "id": "05b533be",
   "metadata": {},
   "outputs": [
    {
     "data": {
      "text/html": [
       "<div>\n",
       "<style scoped>\n",
       "    .dataframe tbody tr th:only-of-type {\n",
       "        vertical-align: middle;\n",
       "    }\n",
       "\n",
       "    .dataframe tbody tr th {\n",
       "        vertical-align: top;\n",
       "    }\n",
       "\n",
       "    .dataframe thead th {\n",
       "        text-align: right;\n",
       "    }\n",
       "</style>\n",
       "<table border=\"1\" class=\"dataframe\">\n",
       "  <thead>\n",
       "    <tr style=\"text-align: right;\">\n",
       "      <th></th>\n",
       "      <th>match</th>\n",
       "      <th>player</th>\n",
       "      <th>X</th>\n",
       "      <th>Y</th>\n",
       "    </tr>\n",
       "  </thead>\n",
       "  <tbody>\n",
       "    <tr>\n",
       "      <th>0</th>\n",
       "      <td>Corinthians x Atlético GO</td>\n",
       "      <td>Cássio</td>\n",
       "      <td>3</td>\n",
       "      <td>53</td>\n",
       "    </tr>\n",
       "    <tr>\n",
       "      <th>1</th>\n",
       "      <td>Corinthians x Atlético GO</td>\n",
       "      <td>Cássio</td>\n",
       "      <td>11</td>\n",
       "      <td>63</td>\n",
       "    </tr>\n",
       "    <tr>\n",
       "      <th>2</th>\n",
       "      <td>Corinthians x Atlético GO</td>\n",
       "      <td>Cássio</td>\n",
       "      <td>13</td>\n",
       "      <td>19</td>\n",
       "    </tr>\n",
       "    <tr>\n",
       "      <th>3</th>\n",
       "      <td>Corinthians x Atlético GO</td>\n",
       "      <td>Cássio</td>\n",
       "      <td>4</td>\n",
       "      <td>50</td>\n",
       "    </tr>\n",
       "    <tr>\n",
       "      <th>4</th>\n",
       "      <td>Corinthians x Atlético GO</td>\n",
       "      <td>Cássio</td>\n",
       "      <td>4</td>\n",
       "      <td>50</td>\n",
       "    </tr>\n",
       "  </tbody>\n",
       "</table>\n",
       "</div>"
      ],
      "text/plain": [
       "                       match  player   X   Y\n",
       "0  Corinthians x Atlético GO  Cássio   3  53\n",
       "1  Corinthians x Atlético GO  Cássio  11  63\n",
       "2  Corinthians x Atlético GO  Cássio  13  19\n",
       "3  Corinthians x Atlético GO  Cássio   4  50\n",
       "4  Corinthians x Atlético GO  Cássio   4  50"
      ]
     },
     "execution_count": 2,
     "metadata": {},
     "output_type": "execute_result"
    }
   ],
   "source": [
    "cor = pd.read_csv('data/corinthians-heatmap-data.csv')\n",
    "fla = pd.read_csv('data/flamengo-heatmap-data.csv')\n",
    "sao = pd.read_csv('data/saopaulo-heatmap-data.csv')\n",
    "\n",
    "cor.head()"
   ]
  },
  {
   "cell_type": "code",
   "execution_count": 3,
   "id": "2f0ae300",
   "metadata": {},
   "outputs": [
    {
     "data": {
      "text/html": [
       "<div>\n",
       "<style scoped>\n",
       "    .dataframe tbody tr th:only-of-type {\n",
       "        vertical-align: middle;\n",
       "    }\n",
       "\n",
       "    .dataframe tbody tr th {\n",
       "        vertical-align: top;\n",
       "    }\n",
       "\n",
       "    .dataframe thead th {\n",
       "        text-align: right;\n",
       "    }\n",
       "</style>\n",
       "<table border=\"1\" class=\"dataframe\">\n",
       "  <thead>\n",
       "    <tr style=\"text-align: right;\">\n",
       "      <th></th>\n",
       "      <th>match</th>\n",
       "      <th>player</th>\n",
       "      <th>X</th>\n",
       "      <th>Y</th>\n",
       "      <th>team</th>\n",
       "    </tr>\n",
       "  </thead>\n",
       "  <tbody>\n",
       "    <tr>\n",
       "      <th>88687</th>\n",
       "      <td>São Paulo x Flamengo</td>\n",
       "      <td>Pablo</td>\n",
       "      <td>42</td>\n",
       "      <td>88</td>\n",
       "      <td>São Paulo</td>\n",
       "    </tr>\n",
       "    <tr>\n",
       "      <th>88688</th>\n",
       "      <td>São Paulo x Flamengo</td>\n",
       "      <td>Pablo</td>\n",
       "      <td>40</td>\n",
       "      <td>93</td>\n",
       "      <td>São Paulo</td>\n",
       "    </tr>\n",
       "    <tr>\n",
       "      <th>88689</th>\n",
       "      <td>São Paulo x Flamengo</td>\n",
       "      <td>Pablo</td>\n",
       "      <td>60</td>\n",
       "      <td>6</td>\n",
       "      <td>São Paulo</td>\n",
       "    </tr>\n",
       "    <tr>\n",
       "      <th>88690</th>\n",
       "      <td>São Paulo x Flamengo</td>\n",
       "      <td>Pablo</td>\n",
       "      <td>98</td>\n",
       "      <td>15</td>\n",
       "      <td>São Paulo</td>\n",
       "    </tr>\n",
       "    <tr>\n",
       "      <th>88691</th>\n",
       "      <td>São Paulo x Flamengo</td>\n",
       "      <td>Pablo</td>\n",
       "      <td>63</td>\n",
       "      <td>11</td>\n",
       "      <td>São Paulo</td>\n",
       "    </tr>\n",
       "  </tbody>\n",
       "</table>\n",
       "</div>"
      ],
      "text/plain": [
       "                      match player   X   Y       team\n",
       "88687  São Paulo x Flamengo  Pablo  42  88  São Paulo\n",
       "88688  São Paulo x Flamengo  Pablo  40  93  São Paulo\n",
       "88689  São Paulo x Flamengo  Pablo  60   6  São Paulo\n",
       "88690  São Paulo x Flamengo  Pablo  98  15  São Paulo\n",
       "88691  São Paulo x Flamengo  Pablo  63  11  São Paulo"
      ]
     },
     "execution_count": 3,
     "metadata": {},
     "output_type": "execute_result"
    }
   ],
   "source": [
    "# Specifying the team for each player, this because we have like two D. Alves, each from different teams\n",
    "cor['team'] = 'Corinthians'\n",
    "fla['team'] = 'Flamengo'\n",
    "sao['team'] = 'São Paulo'\n",
    "\n",
    "# Concatenating the 3 dataframes\n",
    "teams = pd.concat([cor, fla, sao], axis=0)\n",
    "teams.reset_index(drop=True, inplace=True)\n",
    "teams.tail()"
   ]
  },
  {
   "cell_type": "markdown",
   "id": "ec61bce1",
   "metadata": {},
   "source": [
    "The visual representation that I am going to use here was made in `heatmap.ipynb`. But basically, the adversary goal is in the right side of the graph and the left side of the field is the upper side of the graph.\n",
    "\n",
    "So, below, we see a defender that plays more at right."
   ]
  },
  {
   "cell_type": "code",
   "execution_count": 4,
   "id": "3711fa15",
   "metadata": {},
   "outputs": [
    {
     "data": {
      "image/png": "[encoded data removed]",
      "text/plain": [
       "<Figure size 576x360 with 2 Axes>"
      ]
     },
     "metadata": {
      "needs_background": "light"
     },
     "output_type": "display_data"
    }
   ],
   "source": [
    "plotHeatmap(cor[cor['player'] == 'B. Méndez'], 7, show_labels=True)"
   ]
  },
  {
   "cell_type": "markdown",
   "id": "523b1e06",
   "metadata": {},
   "source": [
    "Next we have a function that makes the registry for where was each touch, similar to what is done in `plotHeatmap`, and returns it in a dataframe informing the frequency of touches for each player in each match.\n",
    "\n",
    "`areas_by_axis` specifies how many areas are going to have on the sides for each axis, so if `areas_by_axis` is 6, than we have $6\\times6=36$ areas on the entire field.\n",
    "\n",
    "`normalize` speaks for itself, it normalizes the touches by the players making the sum of a row's cells being 1."
   ]
  },
  {
   "cell_type": "code",
   "execution_count": 5,
   "id": "d72b41a9",
   "metadata": {},
   "outputs": [],
   "source": [
    "def getAreasDataframe(data, areas_by_axis=6, normalize=False):\n",
    "    def findYArea():\n",
    "        left = i*areas_size\n",
    "        right = (i+1)*areas_size\n",
    "        \n",
    "        for j in range(areas_by_axis):\n",
    "            down = j*areas_size\n",
    "            up = (j+1)*areas_size\n",
    "            \n",
    "            if left <= x and x <= right   and   down <= y and y <= up:\n",
    "                heatmap_data.at[index, chr(letter_code)+str(areas_by_axis-j)] += 1\n",
    "                return True\n",
    "        return False\n",
    "    \n",
    "    players = data[['match', 'player', 'team']].copy()\n",
    "    \n",
    "    columns = [chr(65+i) + str(j+1) for i in range(areas_by_axis) for j in range(areas_by_axis)]\n",
    "    index = [i for i in range(data.shape[0])]\n",
    "    areas = pd.DataFrame(index=index, columns=columns).fillna(0)\n",
    "    \n",
    "    heatmap_data = pd.concat([players, areas], axis=1)\n",
    "    \n",
    "    for index, row in data.iterrows():\n",
    "        x, y = row['X'], row['Y']\n",
    "\n",
    "        areas_size = 100/areas_by_axis\n",
    "        letter_code = 64\n",
    "        \n",
    "        for i in range(areas_by_axis): # for each are in x axis\n",
    "            letter_code += 1\n",
    "            if findYArea():\n",
    "                break\n",
    "                \n",
    "    heatmap_data = heatmap_data.groupby(['match', 'player', 'team'], as_index=False).sum()\n",
    "    \n",
    "    if normalize:\n",
    "        columns = heatmap_data.select_dtypes(exclude='object').columns\n",
    "        heatmap_data[columns] = (heatmap_data[columns].transpose() / heatmap_data[columns].sum(axis=1)).transpose()\n",
    "    \n",
    "    return heatmap_data"
   ]
  },
  {
   "cell_type": "code",
   "execution_count": 6,
   "id": "7ea76383",
   "metadata": {
    "scrolled": false
   },
   "outputs": [
    {
     "data": {
      "text/html": [
       "<div>\n",
       "<style scoped>\n",
       "    .dataframe tbody tr th:only-of-type {\n",
       "        vertical-align: middle;\n",
       "    }\n",
       "\n",
       "    .dataframe tbody tr th {\n",
       "        vertical-align: top;\n",
       "    }\n",
       "\n",
       "    .dataframe thead th {\n",
       "        text-align: right;\n",
       "    }\n",
       "</style>\n",
       "<table border=\"1\" class=\"dataframe\">\n",
       "  <thead>\n",
       "    <tr style=\"text-align: right;\">\n",
       "      <th></th>\n",
       "      <th>match</th>\n",
       "      <th>player</th>\n",
       "      <th>team</th>\n",
       "      <th>A1</th>\n",
       "      <th>A2</th>\n",
       "      <th>A3</th>\n",
       "      <th>A4</th>\n",
       "      <th>A5</th>\n",
       "      <th>A6</th>\n",
       "      <th>A7</th>\n",
       "      <th>...</th>\n",
       "      <th>F5</th>\n",
       "      <th>F6</th>\n",
       "      <th>F7</th>\n",
       "      <th>G1</th>\n",
       "      <th>G2</th>\n",
       "      <th>G3</th>\n",
       "      <th>G4</th>\n",
       "      <th>G5</th>\n",
       "      <th>G6</th>\n",
       "      <th>G7</th>\n",
       "    </tr>\n",
       "  </thead>\n",
       "  <tbody>\n",
       "    <tr>\n",
       "      <th>0</th>\n",
       "      <td>Athletico-PR x Corinthians</td>\n",
       "      <td>B. Méndez</td>\n",
       "      <td>Corinthians</td>\n",
       "      <td>0.000000</td>\n",
       "      <td>0.000000</td>\n",
       "      <td>0.016393</td>\n",
       "      <td>0.098361</td>\n",
       "      <td>0.032787</td>\n",
       "      <td>0.000000</td>\n",
       "      <td>0.000000</td>\n",
       "      <td>...</td>\n",
       "      <td>0.0</td>\n",
       "      <td>0.00000</td>\n",
       "      <td>0.000000</td>\n",
       "      <td>0.0</td>\n",
       "      <td>0.0</td>\n",
       "      <td>0.00000</td>\n",
       "      <td>0.000000</td>\n",
       "      <td>0.000000</td>\n",
       "      <td>0.000000</td>\n",
       "      <td>0.000000</td>\n",
       "    </tr>\n",
       "    <tr>\n",
       "      <th>1</th>\n",
       "      <td>Athletico-PR x Corinthians</td>\n",
       "      <td>Fagner</td>\n",
       "      <td>Corinthians</td>\n",
       "      <td>0.000000</td>\n",
       "      <td>0.000000</td>\n",
       "      <td>0.000000</td>\n",
       "      <td>0.000000</td>\n",
       "      <td>0.096386</td>\n",
       "      <td>0.024096</td>\n",
       "      <td>0.048193</td>\n",
       "      <td>...</td>\n",
       "      <td>0.0</td>\n",
       "      <td>0.00000</td>\n",
       "      <td>0.024096</td>\n",
       "      <td>0.0</td>\n",
       "      <td>0.0</td>\n",
       "      <td>0.00000</td>\n",
       "      <td>0.012048</td>\n",
       "      <td>0.012048</td>\n",
       "      <td>0.012048</td>\n",
       "      <td>0.108434</td>\n",
       "    </tr>\n",
       "    <tr>\n",
       "      <th>2</th>\n",
       "      <td>Athletico-PR x Corinthians</td>\n",
       "      <td>Gil</td>\n",
       "      <td>Corinthians</td>\n",
       "      <td>0.017544</td>\n",
       "      <td>0.052632</td>\n",
       "      <td>0.105263</td>\n",
       "      <td>0.035088</td>\n",
       "      <td>0.000000</td>\n",
       "      <td>0.000000</td>\n",
       "      <td>0.000000</td>\n",
       "      <td>...</td>\n",
       "      <td>0.0</td>\n",
       "      <td>0.00000</td>\n",
       "      <td>0.000000</td>\n",
       "      <td>0.0</td>\n",
       "      <td>0.0</td>\n",
       "      <td>0.00000</td>\n",
       "      <td>0.000000</td>\n",
       "      <td>0.000000</td>\n",
       "      <td>0.000000</td>\n",
       "      <td>0.000000</td>\n",
       "    </tr>\n",
       "    <tr>\n",
       "      <th>3</th>\n",
       "      <td>Athletico-PR x Corinthians</td>\n",
       "      <td>Jô</td>\n",
       "      <td>Corinthians</td>\n",
       "      <td>0.000000</td>\n",
       "      <td>0.000000</td>\n",
       "      <td>0.000000</td>\n",
       "      <td>0.000000</td>\n",
       "      <td>0.062500</td>\n",
       "      <td>0.000000</td>\n",
       "      <td>0.000000</td>\n",
       "      <td>...</td>\n",
       "      <td>0.0</td>\n",
       "      <td>0.00000</td>\n",
       "      <td>0.000000</td>\n",
       "      <td>0.0</td>\n",
       "      <td>0.0</td>\n",
       "      <td>0.00000</td>\n",
       "      <td>0.031250</td>\n",
       "      <td>0.000000</td>\n",
       "      <td>0.000000</td>\n",
       "      <td>0.000000</td>\n",
       "    </tr>\n",
       "    <tr>\n",
       "      <th>4</th>\n",
       "      <td>Athletico-PR x Corinthians</td>\n",
       "      <td>L. Natel</td>\n",
       "      <td>Corinthians</td>\n",
       "      <td>0.000000</td>\n",
       "      <td>0.000000</td>\n",
       "      <td>0.000000</td>\n",
       "      <td>0.000000</td>\n",
       "      <td>0.000000</td>\n",
       "      <td>0.000000</td>\n",
       "      <td>0.000000</td>\n",
       "      <td>...</td>\n",
       "      <td>0.0</td>\n",
       "      <td>0.04878</td>\n",
       "      <td>0.073171</td>\n",
       "      <td>0.0</td>\n",
       "      <td>0.0</td>\n",
       "      <td>0.02439</td>\n",
       "      <td>0.000000</td>\n",
       "      <td>0.024390</td>\n",
       "      <td>0.073171</td>\n",
       "      <td>0.048780</td>\n",
       "    </tr>\n",
       "  </tbody>\n",
       "</table>\n",
       "<p>5 rows × 52 columns</p>\n",
       "</div>"
      ],
      "text/plain": [
       "                        match     player         team        A1        A2  \\\n",
       "0  Athletico-PR x Corinthians  B. Méndez  Corinthians  0.000000  0.000000   \n",
       "1  Athletico-PR x Corinthians     Fagner  Corinthians  0.000000  0.000000   \n",
       "2  Athletico-PR x Corinthians        Gil  Corinthians  0.017544  0.052632   \n",
       "3  Athletico-PR x Corinthians         Jô  Corinthians  0.000000  0.000000   \n",
       "4  Athletico-PR x Corinthians   L. Natel  Corinthians  0.000000  0.000000   \n",
       "\n",
       "         A3        A4        A5        A6        A7  ...   F5       F6  \\\n",
       "0  0.016393  0.098361  0.032787  0.000000  0.000000  ...  0.0  0.00000   \n",
       "1  0.000000  0.000000  0.096386  0.024096  0.048193  ...  0.0  0.00000   \n",
       "2  0.105263  0.035088  0.000000  0.000000  0.000000  ...  0.0  0.00000   \n",
       "3  0.000000  0.000000  0.062500  0.000000  0.000000  ...  0.0  0.00000   \n",
       "4  0.000000  0.000000  0.000000  0.000000  0.000000  ...  0.0  0.04878   \n",
       "\n",
       "         F7   G1   G2       G3        G4        G5        G6        G7  \n",
       "0  0.000000  0.0  0.0  0.00000  0.000000  0.000000  0.000000  0.000000  \n",
       "1  0.024096  0.0  0.0  0.00000  0.012048  0.012048  0.012048  0.108434  \n",
       "2  0.000000  0.0  0.0  0.00000  0.000000  0.000000  0.000000  0.000000  \n",
       "3  0.000000  0.0  0.0  0.00000  0.031250  0.000000  0.000000  0.000000  \n",
       "4  0.073171  0.0  0.0  0.02439  0.000000  0.024390  0.073171  0.048780  \n",
       "\n",
       "[5 rows x 52 columns]"
      ]
     },
     "execution_count": 6,
     "metadata": {},
     "output_type": "execute_result"
    }
   ],
   "source": [
    "# Divinding the touches in 49 areas on the field and normalizing it\n",
    "data = getAreasDataframe(teams, areas_by_axis=7, normalize=True)\n",
    "data[data.columns].head()"
   ]
  },
  {
   "cell_type": "markdown",
   "id": "d0ae51f8",
   "metadata": {},
   "source": [
    "Interpretating a little bit the result, L. Natel (row 4), during Athletico-PR x Corinthians didn't gave a single touch on ball being at A's areas. Looking at Jô, during the same match, 6.25% of all his touches was in A5 area.\n",
    "\n",
    "With the data on this format I can already apply clustering to identify positions and group similar players."
   ]
  },
  {
   "cell_type": "code",
   "execution_count": 7,
   "id": "8e205dd2",
   "metadata": {},
   "outputs": [],
   "source": [
    "areas_columns = data.columns[3:]\n",
    "\n",
    "# 20 clusters\n",
    "km = KMeans(n_clusters=20, random_state=0)\n",
    "\n",
    "km.fit(data[areas_columns])\n",
    "\n",
    "data['cluster'] = km.predict(data[areas_columns])"
   ]
  },
  {
   "cell_type": "code",
   "execution_count": 8,
   "id": "fa71972d",
   "metadata": {},
   "outputs": [
    {
     "data": {
      "text/html": [
       "<div>\n",
       "<style scoped>\n",
       "    .dataframe tbody tr th:only-of-type {\n",
       "        vertical-align: middle;\n",
       "    }\n",
       "\n",
       "    .dataframe tbody tr th {\n",
       "        vertical-align: top;\n",
       "    }\n",
       "\n",
       "    .dataframe thead th {\n",
       "        text-align: right;\n",
       "    }\n",
       "</style>\n",
       "<table border=\"1\" class=\"dataframe\">\n",
       "  <thead>\n",
       "    <tr style=\"text-align: right;\">\n",
       "      <th></th>\n",
       "      <th>match</th>\n",
       "      <th>player</th>\n",
       "      <th>cluster</th>\n",
       "    </tr>\n",
       "  </thead>\n",
       "  <tbody>\n",
       "    <tr>\n",
       "      <th>0</th>\n",
       "      <td>Athletico-PR x Corinthians</td>\n",
       "      <td>B. Méndez</td>\n",
       "      <td>18</td>\n",
       "    </tr>\n",
       "    <tr>\n",
       "      <th>1</th>\n",
       "      <td>Athletico-PR x Corinthians</td>\n",
       "      <td>Fagner</td>\n",
       "      <td>2</td>\n",
       "    </tr>\n",
       "    <tr>\n",
       "      <th>2</th>\n",
       "      <td>Athletico-PR x Corinthians</td>\n",
       "      <td>Gil</td>\n",
       "      <td>17</td>\n",
       "    </tr>\n",
       "    <tr>\n",
       "      <th>3</th>\n",
       "      <td>Athletico-PR x Corinthians</td>\n",
       "      <td>Jô</td>\n",
       "      <td>4</td>\n",
       "    </tr>\n",
       "    <tr>\n",
       "      <th>4</th>\n",
       "      <td>Athletico-PR x Corinthians</td>\n",
       "      <td>L. Natel</td>\n",
       "      <td>11</td>\n",
       "    </tr>\n",
       "  </tbody>\n",
       "</table>\n",
       "</div>"
      ],
      "text/plain": [
       "                        match     player  cluster\n",
       "0  Athletico-PR x Corinthians  B. Méndez       18\n",
       "1  Athletico-PR x Corinthians     Fagner        2\n",
       "2  Athletico-PR x Corinthians        Gil       17\n",
       "3  Athletico-PR x Corinthians         Jô        4\n",
       "4  Athletico-PR x Corinthians   L. Natel       11"
      ]
     },
     "execution_count": 8,
     "metadata": {},
     "output_type": "execute_result"
    }
   ],
   "source": [
    "data[['match', 'player', 'cluster']].head()"
   ]
  },
  {
   "cell_type": "markdown",
   "id": "43c86ba3",
   "metadata": {},
   "source": [
    "We see that Fagner, in Athletico-PR x Corinthians, belongs to cluster 2, but we don't know yet what each cluster means. To solve this I can use `km.cluster_centers_` to get how each cluster is. Below I define a function to visualize clusters."
   ]
  },
  {
   "cell_type": "code",
   "execution_count": 9,
   "id": "7cd5ded9",
   "metadata": {},
   "outputs": [],
   "source": [
    "def plotCluster(cluster):\n",
    "    n_areas = 7\n",
    "\n",
    "    a1 = km.cluster_centers_[cluster,:]\n",
    "\n",
    "    c2 = np.empty((n_areas, n_areas))\n",
    "    \n",
    "    for i in range(n_areas):\n",
    "        c2[:,i] = a1[i*n_areas:(i+1)*n_areas]\n",
    "    \n",
    "    plt.figure(figsize=(1.6*5, 5))\n",
    "    \n",
    "    xlabels = [chr(65+i) for i in range(n_areas)]\n",
    "    ylabels = [i+1 for i in range(n_areas)]\n",
    "    sns.heatmap(c2, cmap='Blues', xticklabels=xlabels, yticklabels=ylabels);"
   ]
  },
  {
   "cell_type": "markdown",
   "id": "2eb4cd75",
   "metadata": {},
   "source": [
    "Below is how cluster 2 looks like, so if a player has a heatmap more similar to this than to other cluster, he is going to be classified as from cluster 2."
   ]
  },
  {
   "cell_type": "code",
   "execution_count": 10,
   "id": "33aad84b",
   "metadata": {},
   "outputs": [
    {
     "data": {
      "image/png": "[encoded data removed]",
      "text/plain": [
       "<Figure size 576x360 with 2 Axes>"
      ]
     },
     "metadata": {
      "needs_background": "light"
     },
     "output_type": "display_data"
    }
   ],
   "source": [
    "plotCluster(2)"
   ]
  },
  {
   "cell_type": "markdown",
   "id": "55ea8a24",
   "metadata": {},
   "source": [
    "If we plot Fagner's heatmap we see that he really has a behavior near to cluster 2."
   ]
  },
  {
   "cell_type": "code",
   "execution_count": 26,
   "id": "e55faa76",
   "metadata": {},
   "outputs": [
    {
     "data": {
      "image/png": "[encoded data removed]",
      "text/plain": [
       "<Figure size 576x360 with 2 Axes>"
      ]
     },
     "metadata": {
      "needs_background": "light"
     },
     "output_type": "display_data"
    }
   ],
   "source": [
    "plotHeatmap(cor[cor['player'] == 'Fagner'], 7, show_labels=True)"
   ]
  },
  {
   "cell_type": "markdown",
   "id": "cf08217e",
   "metadata": {},
   "source": [
    "Now if we plot cluster 4, the one gave to Jô"
   ]
  },
  {
   "cell_type": "code",
   "execution_count": 11,
   "id": "a93aa022",
   "metadata": {},
   "outputs": [
    {
     "data": {
      "image/png": "[encoded data removed]",
      "text/plain": [
       "<Figure size 576x360 with 2 Axes>"
      ]
     },
     "metadata": {
      "needs_background": "light"
     },
     "output_type": "display_data"
    }
   ],
   "source": [
    "plotCluster(4)"
   ]
  },
  {
   "cell_type": "markdown",
   "id": "37db7213",
   "metadata": {},
   "source": [
    "and then plot Jô heatmap, on Athletico-PR x Corinthians,"
   ]
  },
  {
   "cell_type": "code",
   "execution_count": 12,
   "id": "3a6a7c65",
   "metadata": {},
   "outputs": [
    {
     "data": {
      "image/png": "[encoded data removed]",
      "text/plain": [
       "<Figure size 576x360 with 2 Axes>"
      ]
     },
     "metadata": {
      "needs_background": "light"
     },
     "output_type": "display_data"
    }
   ],
   "source": [
    "plotHeatmap(cor[cor['match'] == 'Athletico-PR x Corinthians'], 7, show_labels=True, player='Jô')"
   ]
  },
  {
   "cell_type": "markdown",
   "id": "a74ebd8d",
   "metadata": {},
   "source": [
    "we see that all areas are way too different, and that's is ok, we hope that, sometimes, the player's touches on a match don't seems normal. One thing that can be happened on this case was: Jô's behavior on that match was so uncomum that it did not become a cluster, so he was classified as the closer cluster. But let's say we don't know Jô position, and based on this weird game we still can't afirm, so the simple way to know his position is seem which other clusters he was classified on other matches.\n",
    "\n",
    "For this I group players rows and get frequency of cluster classifications."
   ]
  },
  {
   "cell_type": "code",
   "execution_count": 14,
   "id": "3bdf374e",
   "metadata": {
    "scrolled": false
   },
   "outputs": [
    {
     "data": {
      "text/html": [
       "<div>\n",
       "<style scoped>\n",
       "    .dataframe tbody tr th:only-of-type {\n",
       "        vertical-align: middle;\n",
       "    }\n",
       "\n",
       "    .dataframe tbody tr th {\n",
       "        vertical-align: top;\n",
       "    }\n",
       "\n",
       "    .dataframe thead th {\n",
       "        text-align: right;\n",
       "    }\n",
       "</style>\n",
       "<table border=\"1\" class=\"dataframe\">\n",
       "  <thead>\n",
       "    <tr style=\"text-align: right;\">\n",
       "      <th></th>\n",
       "      <th>cluster</th>\n",
       "      <th>0</th>\n",
       "      <th>1</th>\n",
       "      <th>2</th>\n",
       "      <th>3</th>\n",
       "      <th>4</th>\n",
       "      <th>5</th>\n",
       "      <th>6</th>\n",
       "      <th>7</th>\n",
       "      <th>8</th>\n",
       "      <th>9</th>\n",
       "      <th>10</th>\n",
       "      <th>11</th>\n",
       "      <th>12</th>\n",
       "      <th>13</th>\n",
       "      <th>14</th>\n",
       "      <th>15</th>\n",
       "      <th>16</th>\n",
       "      <th>17</th>\n",
       "      <th>18</th>\n",
       "      <th>19</th>\n",
       "    </tr>\n",
       "    <tr>\n",
       "      <th>team</th>\n",
       "      <th>player</th>\n",
       "      <th></th>\n",
       "      <th></th>\n",
       "      <th></th>\n",
       "      <th></th>\n",
       "      <th></th>\n",
       "      <th></th>\n",
       "      <th></th>\n",
       "      <th></th>\n",
       "      <th></th>\n",
       "      <th></th>\n",
       "      <th></th>\n",
       "      <th></th>\n",
       "      <th></th>\n",
       "      <th></th>\n",
       "      <th></th>\n",
       "      <th></th>\n",
       "      <th></th>\n",
       "      <th></th>\n",
       "      <th></th>\n",
       "      <th></th>\n",
       "    </tr>\n",
       "  </thead>\n",
       "  <tbody>\n",
       "    <tr>\n",
       "      <th rowspan=\"5\" valign=\"top\">Corinthians</th>\n",
       "      <th>B. Méndez</th>\n",
       "      <td>0.000000</td>\n",
       "      <td>0.000000</td>\n",
       "      <td>0.066667</td>\n",
       "      <td>0.000000</td>\n",
       "      <td>0.066667</td>\n",
       "      <td>0.000000</td>\n",
       "      <td>0.000000</td>\n",
       "      <td>0.000000</td>\n",
       "      <td>0.000000</td>\n",
       "      <td>0.533333</td>\n",
       "      <td>0.0</td>\n",
       "      <td>0.0000</td>\n",
       "      <td>0.000000</td>\n",
       "      <td>0.000000</td>\n",
       "      <td>0.000000</td>\n",
       "      <td>0.0</td>\n",
       "      <td>0.000000</td>\n",
       "      <td>0.000000</td>\n",
       "      <td>0.333333</td>\n",
       "      <td>0.000000</td>\n",
       "    </tr>\n",
       "    <tr>\n",
       "      <th>Cássio</th>\n",
       "      <td>0.371429</td>\n",
       "      <td>0.000000</td>\n",
       "      <td>0.000000</td>\n",
       "      <td>0.000000</td>\n",
       "      <td>0.000000</td>\n",
       "      <td>0.628571</td>\n",
       "      <td>0.000000</td>\n",
       "      <td>0.000000</td>\n",
       "      <td>0.000000</td>\n",
       "      <td>0.000000</td>\n",
       "      <td>0.0</td>\n",
       "      <td>0.0000</td>\n",
       "      <td>0.000000</td>\n",
       "      <td>0.000000</td>\n",
       "      <td>0.000000</td>\n",
       "      <td>0.0</td>\n",
       "      <td>0.000000</td>\n",
       "      <td>0.000000</td>\n",
       "      <td>0.000000</td>\n",
       "      <td>0.000000</td>\n",
       "    </tr>\n",
       "    <tr>\n",
       "      <th>D. Avelar</th>\n",
       "      <td>0.000000</td>\n",
       "      <td>0.000000</td>\n",
       "      <td>0.000000</td>\n",
       "      <td>0.000000</td>\n",
       "      <td>0.000000</td>\n",
       "      <td>0.000000</td>\n",
       "      <td>0.538462</td>\n",
       "      <td>0.000000</td>\n",
       "      <td>0.000000</td>\n",
       "      <td>0.000000</td>\n",
       "      <td>0.0</td>\n",
       "      <td>0.0000</td>\n",
       "      <td>0.000000</td>\n",
       "      <td>0.000000</td>\n",
       "      <td>0.000000</td>\n",
       "      <td>0.0</td>\n",
       "      <td>0.000000</td>\n",
       "      <td>0.461538</td>\n",
       "      <td>0.000000</td>\n",
       "      <td>0.000000</td>\n",
       "    </tr>\n",
       "    <tr>\n",
       "      <th>Everaldo</th>\n",
       "      <td>0.000000</td>\n",
       "      <td>0.000000</td>\n",
       "      <td>0.000000</td>\n",
       "      <td>0.200000</td>\n",
       "      <td>0.000000</td>\n",
       "      <td>0.000000</td>\n",
       "      <td>0.000000</td>\n",
       "      <td>0.000000</td>\n",
       "      <td>0.200000</td>\n",
       "      <td>0.000000</td>\n",
       "      <td>0.0</td>\n",
       "      <td>0.0000</td>\n",
       "      <td>0.000000</td>\n",
       "      <td>0.000000</td>\n",
       "      <td>0.000000</td>\n",
       "      <td>0.0</td>\n",
       "      <td>0.600000</td>\n",
       "      <td>0.000000</td>\n",
       "      <td>0.000000</td>\n",
       "      <td>0.000000</td>\n",
       "    </tr>\n",
       "    <tr>\n",
       "      <th>Fagner</th>\n",
       "      <td>0.000000</td>\n",
       "      <td>0.000000</td>\n",
       "      <td>0.781250</td>\n",
       "      <td>0.000000</td>\n",
       "      <td>0.000000</td>\n",
       "      <td>0.000000</td>\n",
       "      <td>0.000000</td>\n",
       "      <td>0.000000</td>\n",
       "      <td>0.000000</td>\n",
       "      <td>0.000000</td>\n",
       "      <td>0.0</td>\n",
       "      <td>0.0625</td>\n",
       "      <td>0.000000</td>\n",
       "      <td>0.000000</td>\n",
       "      <td>0.000000</td>\n",
       "      <td>0.0</td>\n",
       "      <td>0.000000</td>\n",
       "      <td>0.000000</td>\n",
       "      <td>0.000000</td>\n",
       "      <td>0.156250</td>\n",
       "    </tr>\n",
       "    <tr>\n",
       "      <th>...</th>\n",
       "      <th>...</th>\n",
       "      <td>...</td>\n",
       "      <td>...</td>\n",
       "      <td>...</td>\n",
       "      <td>...</td>\n",
       "      <td>...</td>\n",
       "      <td>...</td>\n",
       "      <td>...</td>\n",
       "      <td>...</td>\n",
       "      <td>...</td>\n",
       "      <td>...</td>\n",
       "      <td>...</td>\n",
       "      <td>...</td>\n",
       "      <td>...</td>\n",
       "      <td>...</td>\n",
       "      <td>...</td>\n",
       "      <td>...</td>\n",
       "      <td>...</td>\n",
       "      <td>...</td>\n",
       "      <td>...</td>\n",
       "      <td>...</td>\n",
       "    </tr>\n",
       "    <tr>\n",
       "      <th rowspan=\"5\" valign=\"top\">São Paulo</th>\n",
       "      <th>Reinaldo</th>\n",
       "      <td>0.000000</td>\n",
       "      <td>0.000000</td>\n",
       "      <td>0.000000</td>\n",
       "      <td>0.735294</td>\n",
       "      <td>0.000000</td>\n",
       "      <td>0.000000</td>\n",
       "      <td>0.000000</td>\n",
       "      <td>0.000000</td>\n",
       "      <td>0.264706</td>\n",
       "      <td>0.000000</td>\n",
       "      <td>0.0</td>\n",
       "      <td>0.0000</td>\n",
       "      <td>0.000000</td>\n",
       "      <td>0.000000</td>\n",
       "      <td>0.000000</td>\n",
       "      <td>0.0</td>\n",
       "      <td>0.000000</td>\n",
       "      <td>0.000000</td>\n",
       "      <td>0.000000</td>\n",
       "      <td>0.000000</td>\n",
       "    </tr>\n",
       "    <tr>\n",
       "      <th>T. Tchê</th>\n",
       "      <td>0.000000</td>\n",
       "      <td>0.310345</td>\n",
       "      <td>0.034483</td>\n",
       "      <td>0.000000</td>\n",
       "      <td>0.137931</td>\n",
       "      <td>0.000000</td>\n",
       "      <td>0.000000</td>\n",
       "      <td>0.172414</td>\n",
       "      <td>0.000000</td>\n",
       "      <td>0.034483</td>\n",
       "      <td>0.0</td>\n",
       "      <td>0.0000</td>\n",
       "      <td>0.000000</td>\n",
       "      <td>0.000000</td>\n",
       "      <td>0.034483</td>\n",
       "      <td>0.0</td>\n",
       "      <td>0.206897</td>\n",
       "      <td>0.034483</td>\n",
       "      <td>0.000000</td>\n",
       "      <td>0.034483</td>\n",
       "    </tr>\n",
       "    <tr>\n",
       "      <th>T. Volpi</th>\n",
       "      <td>0.473684</td>\n",
       "      <td>0.000000</td>\n",
       "      <td>0.000000</td>\n",
       "      <td>0.000000</td>\n",
       "      <td>0.000000</td>\n",
       "      <td>0.526316</td>\n",
       "      <td>0.000000</td>\n",
       "      <td>0.000000</td>\n",
       "      <td>0.000000</td>\n",
       "      <td>0.000000</td>\n",
       "      <td>0.0</td>\n",
       "      <td>0.0000</td>\n",
       "      <td>0.000000</td>\n",
       "      <td>0.000000</td>\n",
       "      <td>0.000000</td>\n",
       "      <td>0.0</td>\n",
       "      <td>0.000000</td>\n",
       "      <td>0.000000</td>\n",
       "      <td>0.000000</td>\n",
       "      <td>0.000000</td>\n",
       "    </tr>\n",
       "    <tr>\n",
       "      <th>V. F. Bueno</th>\n",
       "      <td>0.000000</td>\n",
       "      <td>0.000000</td>\n",
       "      <td>0.000000</td>\n",
       "      <td>0.000000</td>\n",
       "      <td>0.095238</td>\n",
       "      <td>0.000000</td>\n",
       "      <td>0.000000</td>\n",
       "      <td>0.095238</td>\n",
       "      <td>0.238095</td>\n",
       "      <td>0.000000</td>\n",
       "      <td>0.0</td>\n",
       "      <td>0.0000</td>\n",
       "      <td>0.047619</td>\n",
       "      <td>0.047619</td>\n",
       "      <td>0.428571</td>\n",
       "      <td>0.0</td>\n",
       "      <td>0.047619</td>\n",
       "      <td>0.000000</td>\n",
       "      <td>0.000000</td>\n",
       "      <td>0.000000</td>\n",
       "    </tr>\n",
       "    <tr>\n",
       "      <th>Welington</th>\n",
       "      <td>0.000000</td>\n",
       "      <td>0.000000</td>\n",
       "      <td>0.000000</td>\n",
       "      <td>1.000000</td>\n",
       "      <td>0.000000</td>\n",
       "      <td>0.000000</td>\n",
       "      <td>0.000000</td>\n",
       "      <td>0.000000</td>\n",
       "      <td>0.000000</td>\n",
       "      <td>0.000000</td>\n",
       "      <td>0.0</td>\n",
       "      <td>0.0000</td>\n",
       "      <td>0.000000</td>\n",
       "      <td>0.000000</td>\n",
       "      <td>0.000000</td>\n",
       "      <td>0.0</td>\n",
       "      <td>0.000000</td>\n",
       "      <td>0.000000</td>\n",
       "      <td>0.000000</td>\n",
       "      <td>0.000000</td>\n",
       "    </tr>\n",
       "  </tbody>\n",
       "</table>\n",
       "<p>92 rows × 20 columns</p>\n",
       "</div>"
      ],
      "text/plain": [
       "cluster                        0         1         2         3         4   \\\n",
       "team        player                                                          \n",
       "Corinthians B. Méndez    0.000000  0.000000  0.066667  0.000000  0.066667   \n",
       "            Cássio       0.371429  0.000000  0.000000  0.000000  0.000000   \n",
       "            D. Avelar    0.000000  0.000000  0.000000  0.000000  0.000000   \n",
       "            Everaldo     0.000000  0.000000  0.000000  0.200000  0.000000   \n",
       "            Fagner       0.000000  0.000000  0.781250  0.000000  0.000000   \n",
       "...                           ...       ...       ...       ...       ...   \n",
       "São Paulo   Reinaldo     0.000000  0.000000  0.000000  0.735294  0.000000   \n",
       "            T. Tchê      0.000000  0.310345  0.034483  0.000000  0.137931   \n",
       "            T. Volpi     0.473684  0.000000  0.000000  0.000000  0.000000   \n",
       "            V. F. Bueno  0.000000  0.000000  0.000000  0.000000  0.095238   \n",
       "            Welington    0.000000  0.000000  0.000000  1.000000  0.000000   \n",
       "\n",
       "cluster                        5         6         7         8         9   \\\n",
       "team        player                                                          \n",
       "Corinthians B. Méndez    0.000000  0.000000  0.000000  0.000000  0.533333   \n",
       "            Cássio       0.628571  0.000000  0.000000  0.000000  0.000000   \n",
       "            D. Avelar    0.000000  0.538462  0.000000  0.000000  0.000000   \n",
       "            Everaldo     0.000000  0.000000  0.000000  0.200000  0.000000   \n",
       "            Fagner       0.000000  0.000000  0.000000  0.000000  0.000000   \n",
       "...                           ...       ...       ...       ...       ...   \n",
       "São Paulo   Reinaldo     0.000000  0.000000  0.000000  0.264706  0.000000   \n",
       "            T. Tchê      0.000000  0.000000  0.172414  0.000000  0.034483   \n",
       "            T. Volpi     0.526316  0.000000  0.000000  0.000000  0.000000   \n",
       "            V. F. Bueno  0.000000  0.000000  0.095238  0.238095  0.000000   \n",
       "            Welington    0.000000  0.000000  0.000000  0.000000  0.000000   \n",
       "\n",
       "cluster                   10      11        12        13        14   15  \\\n",
       "team        player                                                        \n",
       "Corinthians B. Méndez    0.0  0.0000  0.000000  0.000000  0.000000  0.0   \n",
       "            Cássio       0.0  0.0000  0.000000  0.000000  0.000000  0.0   \n",
       "            D. Avelar    0.0  0.0000  0.000000  0.000000  0.000000  0.0   \n",
       "            Everaldo     0.0  0.0000  0.000000  0.000000  0.000000  0.0   \n",
       "            Fagner       0.0  0.0625  0.000000  0.000000  0.000000  0.0   \n",
       "...                      ...     ...       ...       ...       ...  ...   \n",
       "São Paulo   Reinaldo     0.0  0.0000  0.000000  0.000000  0.000000  0.0   \n",
       "            T. Tchê      0.0  0.0000  0.000000  0.000000  0.034483  0.0   \n",
       "            T. Volpi     0.0  0.0000  0.000000  0.000000  0.000000  0.0   \n",
       "            V. F. Bueno  0.0  0.0000  0.047619  0.047619  0.428571  0.0   \n",
       "            Welington    0.0  0.0000  0.000000  0.000000  0.000000  0.0   \n",
       "\n",
       "cluster                        16        17        18        19  \n",
       "team        player                                               \n",
       "Corinthians B. Méndez    0.000000  0.000000  0.333333  0.000000  \n",
       "            Cássio       0.000000  0.000000  0.000000  0.000000  \n",
       "            D. Avelar    0.000000  0.461538  0.000000  0.000000  \n",
       "            Everaldo     0.600000  0.000000  0.000000  0.000000  \n",
       "            Fagner       0.000000  0.000000  0.000000  0.156250  \n",
       "...                           ...       ...       ...       ...  \n",
       "São Paulo   Reinaldo     0.000000  0.000000  0.000000  0.000000  \n",
       "            T. Tchê      0.206897  0.034483  0.000000  0.034483  \n",
       "            T. Volpi     0.000000  0.000000  0.000000  0.000000  \n",
       "            V. F. Bueno  0.047619  0.000000  0.000000  0.000000  \n",
       "            Welington    0.000000  0.000000  0.000000  0.000000  \n",
       "\n",
       "[92 rows x 20 columns]"
      ]
     },
     "execution_count": 14,
     "metadata": {},
     "output_type": "execute_result"
    }
   ],
   "source": [
    "freq_df = pd.crosstab([data['team'], data['player']], data['cluster'], normalize='index')\n",
    "freq_df"
   ]
  },
  {
   "cell_type": "code",
   "execution_count": 15,
   "id": "dab620c6",
   "metadata": {},
   "outputs": [
    {
     "data": {
      "text/plain": [
       "cluster\n",
       "15    0.40\n",
       "12    0.32\n",
       "4     0.16\n",
       "10    0.04\n",
       "16    0.04\n",
       "Name: (Corinthians, Jô), dtype: float64"
      ]
     },
     "execution_count": 15,
     "metadata": {},
     "output_type": "execute_result"
    }
   ],
   "source": [
    "# Jô's clusters frequency\n",
    "freq_df.loc[('Corinthians', 'Jô'),:].sort_values(ascending=False).head()"
   ]
  },
  {
   "cell_type": "markdown",
   "id": "93552fd8",
   "metadata": {},
   "source": [
    "As I said, cluster 4 was not even the most frequent to him. Let's visualize now his most frequent clusters."
   ]
  },
  {
   "cell_type": "code",
   "execution_count": 18,
   "id": "bdcb8f31",
   "metadata": {},
   "outputs": [
    {
     "data": {
      "image/png": "[encoded data removed]",
      "text/plain": [
       "<Figure size 576x360 with 2 Axes>"
      ]
     },
     "metadata": {
      "needs_background": "light"
     },
     "output_type": "display_data"
    },
    {
     "data": {
      "image/png": "[encoded data removed]",
      "text/plain": [
       "<Figure size 576x360 with 2 Axes>"
      ]
     },
     "metadata": {
      "needs_background": "light"
     },
     "output_type": "display_data"
    }
   ],
   "source": [
    "plotCluster(15), plotCluster(12);"
   ]
  },
  {
   "cell_type": "markdown",
   "id": "198fa1a4",
   "metadata": {},
   "source": [
    "I would name this clusters as \"center forward when team is bad\" an \"center forward when team is good\", respectively."
   ]
  },
  {
   "cell_type": "markdown",
   "id": "03f8577c",
   "metadata": {},
   "source": [
    "And is also easy to get which other players was classified as from the same cluster."
   ]
  },
  {
   "cell_type": "code",
   "execution_count": 21,
   "id": "9c49061a",
   "metadata": {},
   "outputs": [
    {
     "data": {
      "text/plain": [
       "team         player \n",
       "Flamengo     Pedro      11\n",
       "São Paulo    Brenner    11\n",
       "Corinthians  Jô          8\n",
       "Flamengo     Gabriel     7\n",
       "São Paulo    Luciano     6\n",
       "dtype: int64"
      ]
     },
     "execution_count": 21,
     "metadata": {},
     "output_type": "execute_result"
    }
   ],
   "source": [
    "# Other players classified as \"center forward when team is good\"\n",
    "data[data['cluster'] == 12][['team', 'player']].value_counts().head()"
   ]
  },
  {
   "cell_type": "markdown",
   "id": "69ea2a37",
   "metadata": {},
   "source": [
    "A little bit more of cluster frequency for players."
   ]
  },
  {
   "cell_type": "code",
   "execution_count": 22,
   "id": "7ce6af97",
   "metadata": {},
   "outputs": [
    {
     "data": {
      "text/plain": [
       "cluster\n",
       "5     0.628571\n",
       "0     0.371429\n",
       "11    0.000000\n",
       "18    0.000000\n",
       "17    0.000000\n",
       "Name: (Corinthians, Cássio), dtype: float64"
      ]
     },
     "execution_count": 22,
     "metadata": {},
     "output_type": "execute_result"
    }
   ],
   "source": [
    "# Corinthians' goalkeeper\n",
    "freq_df.loc[('Corinthians', 'Cássio'),:].sort_values(ascending=False).head()"
   ]
  },
  {
   "cell_type": "code",
   "execution_count": 23,
   "id": "4e5c251f",
   "metadata": {},
   "outputs": [
    {
     "data": {
      "text/plain": [
       "cluster\n",
       "0     0.5\n",
       "5     0.5\n",
       "11    0.0\n",
       "18    0.0\n",
       "17    0.0\n",
       "Name: (Flamengo, D. Alves), dtype: float64"
      ]
     },
     "execution_count": 23,
     "metadata": {},
     "output_type": "execute_result"
    }
   ],
   "source": [
    "# Flamengo' goalkeeper\n",
    "freq_df.loc[('Flamengo', 'D. Alves'),:].sort_values(ascending=False).head()"
   ]
  },
  {
   "cell_type": "markdown",
   "id": "62860c9e",
   "metadata": {},
   "source": [
    "Cássio and D. Alves was classified sometimes as cluster 0 and sometimes as cluster 5, and this is weird because a goalkeeper don't change position, they are goalkeeper from the begin to the end of the match.\n",
    "\n",
    "Let's visualize this clusters."
   ]
  },
  {
   "cell_type": "code",
   "execution_count": 18,
   "id": "03f693f5",
   "metadata": {},
   "outputs": [
    {
     "data": {
      "image/png": "[encoded data removed]",
      "text/plain": [
       "<Figure size 576x360 with 2 Axes>"
      ]
     },
     "metadata": {
      "needs_background": "light"
     },
     "output_type": "display_data"
    }
   ],
   "source": [
    "plotCluster(0)"
   ]
  },
  {
   "cell_type": "code",
   "execution_count": 19,
   "id": "3128ca91",
   "metadata": {},
   "outputs": [
    {
     "data": {
      "image/png": "[encoded data removed]",
      "text/plain": [
       "<Figure size 576x360 with 2 Axes>"
      ]
     },
     "metadata": {
      "needs_background": "light"
     },
     "output_type": "display_data"
    }
   ],
   "source": [
    "plotCluster(5)"
   ]
  },
  {
   "cell_type": "markdown",
   "id": "d3399659",
   "metadata": {},
   "source": [
    "And now we see that both clusters are really similar, what makes them different is that cluster 0 has more frequency at A3, A5 and B4 areas. So I can say that cluster 0 are those situations that the goalkeeper gets more out of goal area, or penalty area, and that is it.\n",
    "\n",
    "And to finalize just getting information from other players."
   ]
  },
  {
   "cell_type": "code",
   "execution_count": 24,
   "id": "5a6e3472",
   "metadata": {},
   "outputs": [
    {
     "data": {
      "text/plain": [
       "cluster\n",
       "7     0.303030\n",
       "4     0.242424\n",
       "13    0.121212\n",
       "10    0.090909\n",
       "15    0.060606\n",
       "Name: (Flamengo, Gerson), dtype: float64"
      ]
     },
     "execution_count": 24,
     "metadata": {},
     "output_type": "execute_result"
    }
   ],
   "source": [
    "freq_df.loc[('Flamengo', 'Gerson'),:].sort_values(ascending=False).head()"
   ]
  },
  {
   "cell_type": "code",
   "execution_count": 25,
   "id": "e96b5ea4",
   "metadata": {},
   "outputs": [
    {
     "data": {
      "text/plain": [
       "cluster\n",
       "4     0.500000\n",
       "1     0.200000\n",
       "16    0.100000\n",
       "7     0.100000\n",
       "2     0.033333\n",
       "Name: (São Paulo, D. Alves), dtype: float64"
      ]
     },
     "execution_count": 25,
     "metadata": {},
     "output_type": "execute_result"
    }
   ],
   "source": [
    "freq_df.loc[('São Paulo', 'D. Alves'),:].sort_values(ascending=False).head()"
   ]
  },
  {
   "cell_type": "code",
   "execution_count": 26,
   "id": "394eacf1",
   "metadata": {},
   "outputs": [
    {
     "data": {
      "image/png": "[encoded data removed]",
      "text/plain": [
       "<Figure size 576x360 with 2 Axes>"
      ]
     },
     "metadata": {
      "needs_background": "light"
     },
     "output_type": "display_data"
    }
   ],
   "source": [
    "plotCluster(7)"
   ]
  },
  {
   "cell_type": "code",
   "execution_count": 27,
   "id": "54fb4565",
   "metadata": {},
   "outputs": [
    {
     "data": {
      "image/png": "[encoded data removed]",
      "text/plain": [
       "<Figure size 576x360 with 2 Axes>"
      ]
     },
     "metadata": {
      "needs_background": "light"
     },
     "output_type": "display_data"
    }
   ],
   "source": [
    "plotCluster(4)"
   ]
  },
  {
   "cell_type": "code",
   "execution_count": 28,
   "id": "a4609aec",
   "metadata": {},
   "outputs": [
    {
     "data": {
      "text/plain": [
       "team         player    \n",
       "São Paulo    Luan          0.583333\n",
       "Corinthians  G. Camacho    0.500000\n",
       "São Paulo    R. Nestor     0.500000\n",
       "Corinthians  Xavier        0.444444\n",
       "Flamengo     João Gomes    0.400000\n",
       "Name: 1, dtype: float64"
      ]
     },
     "execution_count": 28,
     "metadata": {},
     "output_type": "execute_result"
    }
   ],
   "source": [
    "# Players most classifieds as cluster 1\n",
    "freq_df[1].sort_values(ascending=False).head()"
   ]
  },
  {
   "cell_type": "code",
   "execution_count": 30,
   "id": "903a42f0",
   "metadata": {},
   "outputs": [
    {
     "data": {
      "text/plain": [
       "team         player   \n",
       "Flamengo     G. Noga      1.000000\n",
       "São Paulo    D. Costa     0.722222\n",
       "Corinthians  Marllon      0.666667\n",
       "             Jemerson     0.571429\n",
       "             B. Méndez    0.533333\n",
       "Name: 9, dtype: float64"
      ]
     },
     "execution_count": 30,
     "metadata": {},
     "output_type": "execute_result"
    }
   ],
   "source": [
    "# Players most classifieds as cluster 9\n",
    "freq_df[9].sort_values(ascending=False).head()"
   ]
  },
  {
   "cell_type": "code",
   "execution_count": null,
   "id": "56b5c3fe",
   "metadata": {},
   "outputs": [],
   "source": []
  }
 ],
 "metadata": {
  "kernelspec": {
   "display_name": "Python 3",
   "language": "python",
   "name": "python3"
  },
  "language_info": {
   "codemirror_mode": {
    "name": "ipython",
    "version": 3
   },
   "file_extension": ".py",
   "mimetype": "text/x-python",
   "name": "python",
   "nbconvert_exporter": "python",
   "pygments_lexer": "ipython3",
   "version": "3.9.5"
  }
 },
 "nbformat": 4,
 "nbformat_minor": 5
}
